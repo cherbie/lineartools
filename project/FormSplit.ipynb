{
 "cells": [
  {
   "cell_type": "markdown",
   "metadata": {},
   "source": [
    "### Create Child Excel Documents\n",
    "> Split the input data on a per form basis"
   ]
  },
  {
   "cell_type": "code",
   "execution_count": null,
   "metadata": {},
   "outputs": [],
   "source": []
  },
  {
   "cell_type": "code",
   "execution_count": null,
   "metadata": {},
   "outputs": [],
   "source": [
    "import os, time, sys\n",
    "from src import FileReader, workbookParser, ConfigParser"
   ]
  },
  {
   "cell_type": "code",
   "execution_count": 2,
   "metadata": {},
   "outputs": [],
   "source": [
    "def main():\n",
    "    configFile = input('Location of CONFIG file (.json): ')\n",
    "    \n",
    "    if not os.path.exists(configFile):\n",
    "        print('Configuration file could not be found. Please review the file path.')\n",
    "        raise Exception('CONFIG FILE PATH ERROR. THE SPECIFIED PATH DOES NOT EXIST.\\n')\n",
    "    \n",
    "    print(' ... reading config file')\n",
    "    config = ConfigParser(configFile)\n",
    "    print(' ... reading excel file')\n",
    "    wb_reader = FileReader(config.getInputFile())\n",
    "    print(' ... parsing file data')\n",
    "    workbookParser(wb_reader, config) # business logic\n",
    "    print(' ... process complete')\n",
    "    time.sleep(10)\n",
    "    sys.exit()\n"
   ]
  },
  {
   "cell_type": "markdown",
   "metadata": {},
   "source": [
    "#### Constants"
   ]
  },
  {
   "cell_type": "code",
   "execution_count": 3,
   "metadata": {},
   "outputs": [],
   "source": [
    "errstr = 'AN ERROR HAS OCCURED!\\n\\nError reporting may have been provided above. Please correct these errors.\\n\\nWould you like to try again: (y/N)\\n'\n",
    "value = 'y'"
   ]
  },
  {
   "cell_type": "code",
   "execution_count": null,
   "metadata": {},
   "outputs": [
    {
     "name": "stdout",
     "output_type": "stream",
     "text": [
      "Location of CONFIG file (.json): ./Hello.json\n",
      "Configuration file could not be found. Please review the file path.\n",
      "--------------------\n",
      "CONFIG FILE PATH ERROR. THE SPECIFIED PATH DOES NOT EXIST.\n",
      "\n",
      "--------------------\n",
      "AN ERROR HAS OCCURED!\n",
      "\n",
      "Error reporting may have been provided above. Please correct these errors.\n",
      "\n",
      "Would you like to try again: (y/N)\n",
      "y\n",
      "Location of CONFIG file (.json): ./test/config.json\n",
      " ... reading config file\n",
      " ... reading excel file\n",
      " ... parsing file data\n",
      " ... process complete\n",
      "--------------------\n",
      "name 'sys' is not defined\n",
      "--------------------\n"
     ]
    }
   ],
   "source": [
    "while value == 'y':\n",
    "    try:\n",
    "        main()\n",
    "    except Exception as err:\n",
    "        print('--------------------')\n",
    "        print(err)\n",
    "        print('--------------------')\n",
    "        value = input(errstr)"
   ]
  }
 ],
 "metadata": {
  "kernelspec": {
   "display_name": "Python 3",
   "language": "python",
   "name": "python3"
  },
  "language_info": {
   "codemirror_mode": {
    "name": "ipython",
    "version": 3
   },
   "file_extension": ".py",
   "mimetype": "text/x-python",
   "name": "python",
   "nbconvert_exporter": "python",
   "pygments_lexer": "ipython3",
   "version": "3.8.1"
  }
 },
 "nbformat": 4,
 "nbformat_minor": 4
}
