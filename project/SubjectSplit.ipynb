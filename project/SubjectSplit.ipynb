{
 "cells": [
  {
   "cell_type": "code",
   "execution_count": 1,
   "metadata": {},
   "outputs": [],
   "source": [
    "from src import FileReader"
   ]
  },
  {
   "cell_type": "markdown",
   "metadata": {},
   "source": [
    "Fetch the location of the input file"
   ]
  },
  {
   "cell_type": "code",
   "execution_count": 2,
   "metadata": {},
   "outputs": [
    {
     "name": "stdin",
     "output_type": "stream",
     "text": [
      " ./INPUT.xlsx\n"
     ]
    }
   ],
   "source": [
    "filename = input()"
   ]
  },
  {
   "cell_type": "code",
   "execution_count": 3,
   "metadata": {},
   "outputs": [
    {
     "name": "stdout",
     "output_type": "stream",
     "text": [
      "['NOX66 phase 1 data report MASTE', 'Sheet2']\n"
     ]
    },
    {
     "name": "stderr",
     "output_type": "stream",
     "text": [
      "/usr/local/Caskroom/miniconda/base/envs/nox/lib/python3.8/site-packages/openpyxl/worksheet/_reader.py:300: UserWarning: Data Validation extension is not supported and will be removed\n",
      "  warn(msg)\n"
     ]
    }
   ],
   "source": [
    "wb_reader = FileReader(filename)\n",
    "print(wb_reader.getSheetnames())"
   ]
  },
  {
   "cell_type": "markdown",
   "metadata": {},
   "source": [
    "Fetch the appropriate sheetname"
   ]
  },
  {
   "cell_type": "code",
   "execution_count": 4,
   "metadata": {},
   "outputs": [],
   "source": [
    "sheetname = wb_reader.getSheetnames()[0]"
   ]
  },
  {
   "cell_type": "markdown",
   "metadata": {},
   "source": [
    "Fetch the excel worksheet"
   ]
  },
  {
   "cell_type": "code",
   "execution_count": 5,
   "metadata": {},
   "outputs": [],
   "source": [
    "ws = wb_reader.getWorksheet(sheetname)"
   ]
  },
  {
   "cell_type": "code",
   "execution_count": 6,
   "metadata": {},
   "outputs": [
    {
     "name": "stdout",
     "output_type": "stream",
     "text": [
      "Visit\n",
      "Form Name\n",
      "Cardiologist Assessment\n",
      "Test #\n",
      "ECG-OD Ref #\n",
      "Test Date\n",
      "Patient Number\n",
      "Last Name\n",
      "First Name\n",
      "Ventricular Rate\n",
      "RR Interval\n",
      "P Duration\n",
      "PR Interval\n",
      "QRS Duration\n",
      "QT Interval\n",
      "QTcF\n",
      "Test Notes\n",
      "None\n",
      "['Visit', 'Form Name', 'Cardiologist Assessment', 'Test #', 'ECG-OD Ref #', 'Test Date', 'Patient Number', 'Last Name', 'First Name', 'Ventricular Rate', 'RR Interval', 'P Duration', 'PR Interval', 'QRS Duration', 'QT Interval', 'QTcF', 'Test Notes']\n"
     ]
    }
   ],
   "source": [
    "headers = wb_reader.getSheetHeaders(sheetname)\n",
    "print(headers)"
   ]
  },
  {
   "cell_type": "code",
   "execution_count": null,
   "metadata": {},
   "outputs": [],
   "source": []
  },
  {
   "cell_type": "code",
   "execution_count": null,
   "metadata": {},
   "outputs": [],
   "source": []
  }
 ],
 "metadata": {
  "kernelspec": {
   "display_name": "Python 3",
   "language": "python",
   "name": "python3"
  },
  "language_info": {
   "codemirror_mode": {
    "name": "ipython",
    "version": 3
   },
   "file_extension": ".py",
   "mimetype": "text/x-python",
   "name": "python",
   "nbconvert_exporter": "python",
   "pygments_lexer": "ipython3",
   "version": "3.8.1"
  }
 },
 "nbformat": 4,
 "nbformat_minor": 4
}
