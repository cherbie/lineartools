{
 "cells": [
  {
   "cell_type": "markdown",
   "metadata": {},
   "source": [
    "# Study Summary Report\n",
    "> Author: Clayton Herbst\n",
    "\n",
    "## Business Needs Statement\n",
    "CRO need to be able to review the state of a study on demand, following the progression of study participants over time using key metrics captured within the study.\n",
    "\n",
    "## Task Description\n",
    "Generate a report that reflects the current data within the study, collating all ECG, Vital Signs, PK data on a per tab basis ensuring the links to study participants, forms, visits and timepoints remain. Data must accurately reflect the data stored in the study database."
   ]
  },
  {
   "cell_type": "code",
   "execution_count": 1,
   "metadata": {},
   "outputs": [
    {
     "ename": "SyntaxError",
     "evalue": "invalid syntax (<ipython-input-1-8b91f93b8dd5>, line 2)",
     "output_type": "error",
     "traceback": [
      "\u001b[0;36m  File \u001b[0;32m\"<ipython-input-1-8b91f93b8dd5>\"\u001b[0;36m, line \u001b[0;32m2\u001b[0m\n\u001b[0;31m    Authorise application access to Google Drive (read & write permission).\u001b[0m\n\u001b[0m              ^\u001b[0m\n\u001b[0;31mSyntaxError\u001b[0m\u001b[0;31m:\u001b[0m invalid syntax\n"
     ]
    }
   ],
   "source": [
    "## Link Google Drive\n",
    "Authorise application access to Google Drive (read & write permission)."
   ]
  },
  {
   "cell_type": "code",
   "execution_count": null,
   "metadata": {},
   "outputs": [],
   "source": [
    "from google.colab import drive\n",
    "drive.mount('/content/drive')"
   ]
  },
  {
   "cell_type": "code",
   "execution_count": null,
   "metadata": {},
   "outputs": [],
   "source": [
    "%cd \"drive/My Drive/Colab Notebooks\""
   ]
  },
  {
   "cell_type": "code",
   "execution_count": null,
   "metadata": {},
   "outputs": [],
   "source": [
    "%ls -l"
   ]
  },
  {
   "cell_type": "code",
   "execution_count": 1,
   "metadata": {},
   "outputs": [],
   "source": [
    "from openpyxl import Workbook, load_workbook\n",
    "import json\n",
    "import pprint\n",
    "import datetime\n",
    "import os\n",
    "import re\n",
    "from matplotlib import pyplot\n",
    "from src import FileReader, ParseData, FileWriter, ErrorLogger\n",
    "\n",
    "%matplotlib inline"
   ]
  },
  {
   "cell_type": "markdown",
   "metadata": {},
   "source": [
    "## Setup Output Folder"
   ]
  },
  {
   "cell_type": "markdown",
   "metadata": {},
   "source": [
    "Create the __output folder__ in which all output files will be placed."
   ]
  },
  {
   "cell_type": "code",
   "execution_count": 2,
   "metadata": {},
   "outputs": [],
   "source": [
    "# Set the output folder location\n",
    "outputfolder = './test/output'"
   ]
  },
  {
   "cell_type": "code",
   "execution_count": 3,
   "metadata": {},
   "outputs": [],
   "source": [
    "if not os.path.exists(outputfolder):\n",
    "    os.makedirs(outputfolder, 0o755) # owner execution "
   ]
  },
  {
   "cell_type": "markdown",
   "metadata": {},
   "source": [
    "View contents of folder:"
   ]
  },
  {
   "cell_type": "code",
   "execution_count": 4,
   "metadata": {},
   "outputs": [
    {
     "name": "stdout",
     "output_type": "stream",
     "text": [
      "total 23888\n",
      "-r--------@ 1 herbsca  staff  11617686 24 May 20:02 browse_data.xlsx\n",
      "-rw-r--r--@ 1 herbsca  staff      5648 24 May 21:08 config.json\n",
      "drwxr-xr-x  6 herbsca  staff       192 24 May 21:07 \u001b[34moutput\u001b[m\u001b[m/\n"
     ]
    }
   ],
   "source": [
    "%ls -l ./test"
   ]
  },
  {
   "cell_type": "markdown",
   "metadata": {},
   "source": [
    "## Define Utility Functions\n",
    "These functions generate the format of the output file. They are supplied with a _dictionary variable_ (`contents`) and then convert this information structure into the output file format (csv -> columns, json -> key-value pairs etc)."
   ]
  },
  {
   "cell_type": "code",
   "execution_count": 5,
   "metadata": {},
   "outputs": [],
   "source": [
    "def writeFile(filename: str, contents: object):\n",
    "    # Create function to allow for file creation in output.\n",
    "    path = os.path.join(outputfolder, filename)\n",
    "    with open(path, 'w') as outputfile:\n",
    "        outputfile.write(pprint.pformat(contents))\n",
    "    print('Text file write complete.')\n",
    "\n",
    "def writeJSON(filename: str, contents: object):\n",
    "    # Create function to allow for file creation in output.\n",
    "    path = os.path.join(outputfolder, filename)\n",
    "    with open(path, 'w') as outputfile:\n",
    "        outputfile.write(json.dumps(contents))\n",
    "    print('JSON file write complete.')\n",
    "\n",
    "def writeErrorCSV(filename: str, contents: object):\n",
    "    path = os.path.join(outputfolder, filename)\n",
    "    with open(path, 'w') as outputfile:\n",
    "        fieldnames = ['subjectid', 'type', 'collection', 'visit', 'panel', 'sourceDate', 'sourceTime', 'comparisonDate', 'comparisonTime', 'message']\n",
    "        writer = csv.DictWriter(outputfile, fieldnames=fieldnames)\n",
    "        writer.writeheader() # place headers in csv file.\n",
    "        for key in contents:\n",
    "            if key == 'errors' or  key  == 'total':\n",
    "                    continue\n",
    "            for data in contents[key]:\n",
    "                # cycle through list of errors\n",
    "                sourcedate = '-'\n",
    "                sourcetime = '-'\n",
    "                comparisondate = '-'\n",
    "                comparisontime = '-'\n",
    "                msg =  ''\n",
    "                if 'date' in data and data['date']['error']:\n",
    "                    sourcedate = data['date']['source']\n",
    "                    comparisondate = data['date']['comparison']\n",
    "                if 'time' in data and data['time']['error']:\n",
    "                    sourcetime = data['time']['source']\n",
    "                    comparisontime = data['time']['comparison']\n",
    "                if 'msg' in data:\n",
    "                    msg = data['msg']\n",
    "\n",
    "                row = {\n",
    "                    'subjectid': data['subject'],\n",
    "                    'visit': data['visit'],\n",
    "                    'type': data['type'],\n",
    "                    'collection': data['collection'],\n",
    "                    'panel': data['panel'],\n",
    "                    'sourceDate': sourcedate,\n",
    "                    'sourceTime': sourcetime,\n",
    "                    'comparisonDate': comparisondate,\n",
    "                    'comparisonTime': comparisontime,\n",
    "                    'message': msg\n",
    "                }\n",
    "                writer.writerow(row) # write to file\n",
    "    print('CSV file write complete.')"
   ]
  },
  {
   "cell_type": "markdown",
   "metadata": {},
   "source": [
    "## Parse Config File"
   ]
  },
  {
   "cell_type": "markdown",
   "metadata": {},
   "source": [
    "__EDIT HERE:__"
   ]
  },
  {
   "cell_type": "code",
   "execution_count": 6,
   "metadata": {},
   "outputs": [],
   "source": [
    "config_file_path = './test/config.json'"
   ]
  },
  {
   "cell_type": "markdown",
   "metadata": {},
   "source": [
    "Parse config file and establish relationships."
   ]
  },
  {
   "cell_type": "code",
   "execution_count": 7,
   "metadata": {},
   "outputs": [
    {
     "name": "stdout",
     "output_type": "stream",
     "text": [
      "{'tabs': ['ECG',\n",
      "          'Vital Signs',\n",
      "          'Brief Physical',\n",
      "          'DSST',\n",
      "          'Neurological',\n",
      "          'Physical Exam',\n",
      "          'Dose Administration',\n",
      "          'Adverse Events',\n",
      "          'Orthostatic Vital'],\n",
      " 'general_headers': ['Medrio ID', 'Group', 'Subject ID', 'Visit', 'Form'],\n",
      " 'map': {'Orthostatic Vital': {'_formregex': 'Orthostatic',\n",
      "                               '_col': ['date',\n",
      "                                        'supinetime',\n",
      "                                        'supinesys',\n",
      "                                        'supinedias',\n",
      "                                        'supineheart',\n",
      "                                        'supinerr',\n",
      "                                        'supinetemp',\n",
      "                                        'review',\n",
      "                                        'rp'],\n",
      "                               '_medrio_order': ['date',\n",
      "                                                 'supinetime',\n",
      "                                                 'supinesys',\n",
      "                                                 'supinedias',\n",
      "                                                 'supineheart',\n",
      "                                                 'supinerr',\n",
      "                                                 'supinetemp',\n",
      "                                                 'review',\n",
      "                                                 'rp',\n",
      "                                                 'standingtime',\n",
      "                                                 'standingsys',\n",
      "                                                 'standingdias',\n",
      "                                                 'standingheart',\n",
      "                                                 'standingreview'],\n",
      "                               '_colregex': {'date': 'dat',\n",
      "                                             'supinetime': 'SuMeTim',\n",
      "                                             'supinesys': 'SuSys',\n",
      "                                             'supinedias': 'SuDia',\n",
      "                                             'supineheart': 'SuHr',\n",
      "                                             'supinerr': 'SuRR',\n",
      "                                             'supinetemp': 'SuTe',\n",
      "                                             'standingreview': 'ReviewOrthoS',\n",
      "                                             'rp': 'RPRev',\n",
      "                                             'review': 'review',\n",
      "                                             'standingtime': 'stmetim',\n",
      "                                             'standingsys': 'stsys',\n",
      "                                             'standingdias': 'stdia',\n",
      "                                             'standingheart': 'sthr'},\n",
      "                               '_repregex': '_(R[0-9])'},\n",
      "         'Brief Physical': {'_formregex': 'Brief (Physical)?',\n",
      "                            '_col': ['date',\n",
      "                                     'time',\n",
      "                                     'system',\n",
      "                                     'other',\n",
      "                                     'body',\n",
      "                                     'result',\n",
      "                                     'description'],\n",
      "                            '_medrio_order': ['date',\n",
      "                                              'time',\n",
      "                                              'body',\n",
      "                                              'other',\n",
      "                                              'result',\n",
      "                                              'description'],\n",
      "                            '_colregex': {'date': 'dat',\n",
      "                                          'time': 'tim',\n",
      "                                          'body': 'body',\n",
      "                                          'other': 'oth',\n",
      "                                          'result': 'res',\n",
      "                                          'description': '(abnorm)|(abcomm)'},\n",
      "                            '_variable_headers': {'other': {'content': 'result'},\n",
      "                                                  'body': {'content': 'result'},\n",
      "                                                  'description': {'content': 'description',\n",
      "                                                                  'header_ref': 'body',\n",
      "                                                                  '_concatenate': ' '\n",
      "                                                                                  '-- '\n",
      "                                                                                  'description'}}},\n",
      "         'ECG': {'_formregex': 'ecg',\n",
      "                 '_col': ['date',\n",
      "                          'time',\n",
      "                          'heart',\n",
      "                          'rr',\n",
      "                          'pr',\n",
      "                          'qrsd',\n",
      "                          'qt',\n",
      "                          'qtcf',\n",
      "                          'asssessment'],\n",
      "                 '_medrio_order': ['date',\n",
      "                                   'time',\n",
      "                                   'heart',\n",
      "                                   'rr',\n",
      "                                   'pr',\n",
      "                                   'qrsd',\n",
      "                                   'qt',\n",
      "                                   'qtcf',\n",
      "                                   'assessment'],\n",
      "                 '_colregex': {'date': 'dat',\n",
      "                               'time': 'tim',\n",
      "                               'heart': 'hear',\n",
      "                               'rr': 'rr',\n",
      "                               'pr': 'pr',\n",
      "                               'qrsd': 'qrsd',\n",
      "                               'qt': 'qt',\n",
      "                               'qtcf': 'qtcf',\n",
      "                               'assessment': 'rev'},\n",
      "                 '_triplicateregex': 'triplicate',\n",
      "                 '_repregex': '(_R[0-9])'},\n",
      "         'Vital Signs': {'_formregex': 'vital',\n",
      "                         '_col': ['date',\n",
      "                                  'time',\n",
      "                                  'systolic',\n",
      "                                  'diastolic',\n",
      "                                  'heart',\n",
      "                                  'resp',\n",
      "                                  'temp',\n",
      "                                  'assessment',\n",
      "                                  'review'],\n",
      "                         '_medrio_order': ['date',\n",
      "                                           'time',\n",
      "                                           'systolic',\n",
      "                                           'diastolic',\n",
      "                                           'heart',\n",
      "                                           'resp',\n",
      "                                           'temp',\n",
      "                                           'assessment',\n",
      "                                           'review'],\n",
      "                         '_colregex': {'date': 'dat',\n",
      "                                       'time': 'meas',\n",
      "                                       'systolic': 'syst',\n",
      "                                       'diastolic': 'dias',\n",
      "                                       'heart': 'heart',\n",
      "                                       'resp': 'resp',\n",
      "                                       'temp': 'temp',\n",
      "                                       'review': 'RPRev',\n",
      "                                       'assessment': 'rev'},\n",
      "                         '_repregex': '(R[0-9])'},\n",
      "         'DSST': {'_formregex': 'dsst',\n",
      "                  '_col': ['date',\n",
      "                           'visit',\n",
      "                           'timepoint',\n",
      "                           'starttime',\n",
      "                           'endtime',\n",
      "                           'comparison',\n",
      "                           'baseline'],\n",
      "                  '_medrio_order': ['baseline',\n",
      "                                    'date',\n",
      "                                    'visit',\n",
      "                                    'timepoint',\n",
      "                                    'starttime',\n",
      "                                    'endtime',\n",
      "                                    'comparison'],\n",
      "                  '_colregex': {'baseline': 'baseline',\n",
      "                                'date': 'dat',\n",
      "                                'visit': 'dsstvisit',\n",
      "                                'timepoint': 'timepoint',\n",
      "                                'starttime': 'sttime',\n",
      "                                'endtime': 'edtime',\n",
      "                                'comparison': 'comp'}},\n",
      "         'Neurological': {'_formregex': 'neurological',\n",
      "                          '_col': ['date',\n",
      "                                   'time',\n",
      "                                   'assessment',\n",
      "                                   'other',\n",
      "                                   'significance',\n",
      "                                   'date',\n",
      "                                   'find'],\n",
      "                          '_medrio_order': ['date',\n",
      "                                            'time',\n",
      "                                            'assessment',\n",
      "                                            'other',\n",
      "                                            'significance',\n",
      "                                            'find'],\n",
      "                          '_colregex': {'assessment': 'asses',\n",
      "                                        'other': 'other',\n",
      "                                        'significance': 'clinsig',\n",
      "                                        'date': 'dat',\n",
      "                                        'find': 'find',\n",
      "                                        'time': 'tim'},\n",
      "                          '_variable_headers': {'assessment': {'content': 'significance'},\n",
      "                                                'other': {'content': 'significance'},\n",
      "                                                'find': {'header_exact': 'Finding',\n",
      "                                                         'header_ref': 'assessment',\n",
      "                                                         'content': 'find'}}},\n",
      "         'Physical Exam': {'_formregex': 'physical',\n",
      "                           '_col': ['date',\n",
      "                                    'time',\n",
      "                                    'system',\n",
      "                                    'other',\n",
      "                                    'result',\n",
      "                                    'description'],\n",
      "                           '_medrio_order': ['date',\n",
      "                                             'time',\n",
      "                                             'system',\n",
      "                                             'other',\n",
      "                                             'result',\n",
      "                                             'description'],\n",
      "                           '_colregex': {'date': 'dat',\n",
      "                                         'time': 'tim',\n",
      "                                         'system': 'system',\n",
      "                                         'other': 'oth',\n",
      "                                         'result': 'res',\n",
      "                                         'description': '(abnorm)|(abcomm)'},\n",
      "                           '_variable_headers': {'system': {'content': 'result'},\n",
      "                                                 'other': {'content': 'result'},\n",
      "                                                 'description': {'content': 'description',\n",
      "                                                                 'header_ref': 'system',\n",
      "                                                                 '_concatenate': ' '\n",
      "                                                                                 '-- '\n",
      "                                                                                 'description'}}},\n",
      "         'Dose Adminstration': {'_formregex': 'doser 2',\n",
      "                                '_col': ['cocacola',\n",
      "                                         'batchnum',\n",
      "                                         'datetime',\n",
      "                                         'dosevolume',\n",
      "                                         'watervolume',\n",
      "                                         'totalvolume'],\n",
      "                                '_medrio_order': ['cocacola',\n",
      "                                                  'batchnum',\n",
      "                                                  'datetime',\n",
      "                                                  'dosevolume',\n",
      "                                                  'watervolume',\n",
      "                                                  'totalvolume'],\n",
      "                                '_colregex': {'cocacola': 'cocacola',\n",
      "                                              'batchnum': 'batchnum',\n",
      "                                              'datetime': 'dattim',\n",
      "                                              'watervolume': 'water',\n",
      "                                              'dosevolume': 'dosevol',\n",
      "                                              'totalvolume': 'totalvol'}},\n",
      "         'Adverse Events': {'_formregex': 'adverse',\n",
      "                            '_col': ['id',\n",
      "                                     'ongoing',\n",
      "                                     'startdate',\n",
      "                                     'starttime',\n",
      "                                     'enddate',\n",
      "                                     'endtime',\n",
      "                                     'outcome',\n",
      "                                     'severity',\n",
      "                                     'frequency',\n",
      "                                     'serious',\n",
      "                                     'term',\n",
      "                                     'drug action',\n",
      "                                     'action',\n",
      "                                     'relationship'],\n",
      "                            '_medrio_order': ['id',\n",
      "                                              'ongoing',\n",
      "                                              'startdate',\n",
      "                                              'starttime',\n",
      "                                              'enddate',\n",
      "                                              'endtime',\n",
      "                                              'outcome',\n",
      "                                              'severity',\n",
      "                                              'frequency',\n",
      "                                              'serious',\n",
      "                                              'term',\n",
      "                                              'drug action',\n",
      "                                              'action',\n",
      "                                              'relationship'],\n",
      "                            '_colregex': {'id': 'aeid',\n",
      "                                          'ongoing': 'ongoing',\n",
      "                                          'startdate': 'startdat',\n",
      "                                          'starttime': 'starttim',\n",
      "                                          'enddate': 'enddat',\n",
      "                                          'endtime': 'endtim',\n",
      "                                          'outcome': 'outcome',\n",
      "                                          'severity': 'severity',\n",
      "                                          'frequency': 'freq',\n",
      "                                          'serious': 'serious',\n",
      "                                          'term': 'term',\n",
      "                                          'drug action': 'drugactn',\n",
      "                                          'action': 'action',\n",
      "                                          'relationship': 'rshipdrug'}}}}\n"
     ]
    }
   ],
   "source": [
    "config_dict = dict()\n",
    "\n",
    "with open(config_file_path) as jsonfile:\n",
    "    config_dict = json.load(jsonfile)\n",
    "\n",
    "pprint.pp(config_dict)"
   ]
  },
  {
   "cell_type": "markdown",
   "metadata": {},
   "source": [
    "## Process Workbook"
   ]
  },
  {
   "cell_type": "markdown",
   "metadata": {},
   "source": [
    "__EDIT HERE:__ Specify where the input file can be found."
   ]
  },
  {
   "cell_type": "code",
   "execution_count": 8,
   "metadata": {},
   "outputs": [],
   "source": [
    "input_file_path = './test/browse_data.xlsx'\n",
    "\n",
    "form_name_column_header = 'Form'"
   ]
  },
  {
   "cell_type": "markdown",
   "metadata": {},
   "source": [
    "Read the xlsx file and create a searchable dictionary variable."
   ]
  },
  {
   "cell_type": "code",
   "execution_count": 9,
   "metadata": {},
   "outputs": [],
   "source": [
    "# -- Create File Reader Object --\n",
    "filereader = FileReader(input_file_path)\n",
    "\n",
    "# -- Get File Contents --\n",
    "headers = filereader.getSheetHeaders() # all medrio variables etc\n",
    "ws = filereader.getWorksheet() # worksheet for the file read\n",
    "\n",
    "# -- Get General Headers --\n",
    "general_headers = config_dict.get(\"general_headers\", [])\n",
    "ignore_col_before = len(general_headers) # number of rows to ignore --> i.e row 1 to 5\n",
    "\n",
    "# -- Create File Processing Object --\n",
    "parser = ParseData(headers, config_dict.get('map', None), general_headers=general_headers) # pd = processdata -- allows data to be processed\n",
    "\n",
    "# -- Create Error Logger Object --\n",
    "err_logger = ErrorLogger(outputfolder, headers=general_headers)\n",
    "\n",
    "# -- Parse Contents --\n",
    "row_id = 0 # keep track of number of rows looked at\n",
    "for row in ws.rows:\n",
    "    data = dict()\n",
    "    row_id += 1 # increment the row\n",
    "    \n",
    "    # -- Skip the xlsx headers --\n",
    "    if row_id == 1:\n",
    "        continue\n",
    "    \n",
    "    '''# -- TESTING --\n",
    "    if row_id > 200:\n",
    "        break\n",
    "    '''\n",
    "    \n",
    "    # -- Get the common headers --\n",
    "    general = parser.process_generalised_cells(row)\n",
    "    \n",
    "    # -- Find information about form name --\n",
    "    form_info = parser.generate_form_type(general.get(form_name_column_header, None)) # get the form identifier\n",
    "    \n",
    "    # -- Extract information from form_info --\n",
    "    formtype = form_info[0]\n",
    "    is_triplicate = form_info[1]\n",
    "    \n",
    "    # -- No formtype defined for form name --\n",
    "    if formtype is None:\n",
    "        error = {\n",
    "            'type': 'WARNING',\n",
    "            'message': f\"Skipped form name: {general.get(form_name_column_header, 'UNKNOWN')}.\",\n",
    "            \"function\": \"Process Workbook\"\n",
    "        }\n",
    "        if err_logger is not None:\n",
    "            err_logger.add({**general, **error})\n",
    "        else:\n",
    "            print(f\"Skipped form name: {general.get(form_name_column_header, 'UNKNOWN')}.\")\n",
    "        continue\n",
    "    \n",
    "    # -- Process based on if the form is a triplicate or not --\n",
    "    if is_triplicate: # is triplicate\n",
    "        data = parser.process_triplicate_from_config(row, formtype, ignore_col_before, err_logger=err_logger, start_dict=general)\n",
    "        if data is None:\n",
    "            continue\n",
    "    else: # not triplicate\n",
    "        data = parser.process_from_config(row, formtype, ignore_col_before, err_logger=err_logger, start_dict=general)\n",
    "        if data is None:\n",
    "            continue\n",
    "    \n",
    "    # -- ADD TO OVERALL DICTIONARY --\n",
    "    parser.add_row(data, formtype) # use the formtype as the output file tab name\n"
   ]
  },
  {
   "cell_type": "code",
   "execution_count": 10,
   "metadata": {},
   "outputs": [
    {
     "name": "stdout",
     "output_type": "stream",
     "text": [
      "JSON file write complete.\n"
     ]
    }
   ],
   "source": [
    "# pprint.pp(parser.get_data())\n",
    "writeJSON('temp_output.json', parser.get_data())"
   ]
  },
  {
   "cell_type": "code",
   "execution_count": 11,
   "metadata": {},
   "outputs": [],
   "source": [
    "# -- FORMAT THE DATA --\n",
    "parser.format_data(err_logger=err_logger)"
   ]
  },
  {
   "cell_type": "markdown",
   "metadata": {},
   "source": [
    "## Output Results to XLSX File"
   ]
  },
  {
   "cell_type": "code",
   "execution_count": 12,
   "metadata": {},
   "outputs": [],
   "source": [
    "output_filename = 'output'\n",
    "\n",
    "tabs = config_dict.get('tabs', None) # Fetch tabs to be included from config file\n",
    "\n",
    "# Create file writer object\n",
    "writer = FileWriter(outputfolder, output_filename, tabs, parser.get_data())\n",
    "\n",
    "for tab in parser.get_data().keys():\n",
    "    writer.write_worksheet(tab)\n",
    "\n",
    "writer.save() # saves the file to disk"
   ]
  },
  {
   "cell_type": "markdown",
   "metadata": {},
   "source": [
    "## Output Error Log"
   ]
  },
  {
   "cell_type": "code",
   "execution_count": 13,
   "metadata": {},
   "outputs": [],
   "source": [
    "err_logger.write()\n",
    "err_logger.save()"
   ]
  }
 ],
 "metadata": {
  "kernelspec": {
   "display_name": "Python 3",
   "language": "python",
   "name": "python3"
  },
  "language_info": {
   "codemirror_mode": {
    "name": "ipython",
    "version": 3
   },
   "file_extension": ".py",
   "mimetype": "text/x-python",
   "name": "python",
   "nbconvert_exporter": "python",
   "pygments_lexer": "ipython3",
   "version": "3.8.2"
  }
 },
 "nbformat": 4,
 "nbformat_minor": 4
}
