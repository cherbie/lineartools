{
 "cells": [
  {
   "cell_type": "markdown",
   "metadata": {},
   "source": [
    "# Safety Bloods Date & Time Reconciliation"
   ]
  },
  {
   "cell_type": "markdown",
   "metadata": {},
   "source": [
    "## Link Google Drive\n",
    "Authorise application access to Google Drive (read & write permission)."
   ]
  },
  {
   "cell_type": "code",
   "execution_count": null,
   "metadata": {},
   "outputs": [],
   "source": [
    "from google.colab import drive\n",
    "drive.mount('/content/drive')"
   ]
  },
  {
   "cell_type": "code",
   "execution_count": null,
   "metadata": {},
   "outputs": [],
   "source": [
    "%cd \"drive/My Drive/Colab Notebooks\""
   ]
  },
  {
   "cell_type": "code",
   "execution_count": null,
   "metadata": {},
   "outputs": [],
   "source": [
    "%ls -l"
   ]
  },
  {
   "cell_type": "markdown",
   "metadata": {},
   "source": [
    "Import external modules."
   ]
  },
  {
   "cell_type": "code",
   "execution_count": null,
   "metadata": {},
   "outputs": [],
   "source": [
    "import csv\n",
    "import json\n",
    "import pprint\n",
    "import datetime\n",
    "import os\n",
    "import re\n",
    "from matplotlib import pyplot\n",
    "\n",
    "%matplotlib inline"
   ]
  },
  {
   "cell_type": "markdown",
   "metadata": {},
   "source": [
    "## Setup Output Folder"
   ]
  },
  {
   "cell_type": "markdown",
   "metadata": {},
   "source": [
    "_Global_ scope variables:"
   ]
  },
  {
   "cell_type": "code",
   "execution_count": null,
   "metadata": {
    "jupyter": {
     "source_hidden": true
    }
   },
   "outputs": [],
   "source": [
    "outputfolder = './test/safety/output/coh2'"
   ]
  },
  {
   "cell_type": "markdown",
   "metadata": {},
   "source": [
    "Create the __output folder__ in which all output files will be placed."
   ]
  },
  {
   "cell_type": "code",
   "execution_count": null,
   "metadata": {
    "jupyter": {
     "source_hidden": true
    }
   },
   "outputs": [],
   "source": [
    "if not os.path.exists(outputfolder):\n",
    "    os.makedirs(outputfolder, 0o755) # owner execution "
   ]
  },
  {
   "cell_type": "markdown",
   "metadata": {},
   "source": [
    "View contents of folder:"
   ]
  },
  {
   "cell_type": "code",
   "execution_count": null,
   "metadata": {
    "jupyter": {
     "source_hidden": true
    }
   },
   "outputs": [],
   "source": [
    "%ls -l ./test"
   ]
  },
  {
   "cell_type": "markdown",
   "metadata": {
    "jupyter": {
     "source_hidden": true
    }
   },
   "source": [
    "Define output file writing functions:"
   ]
  },
  {
   "cell_type": "code",
   "execution_count": null,
   "metadata": {
    "jupyter": {
     "source_hidden": true
    }
   },
   "outputs": [],
   "source": [
    "def writeFile(filename: str, contents: object):\n",
    "    # Create function to allow for file creation in output.\n",
    "    path = os.path.join(outputfolder, filename)\n",
    "    with open(path, 'w') as outputfile:\n",
    "        outputfile.write(pprint.pformat(contents))\n",
    "    print('Text file write complete.')\n",
    "\n",
    "def writeJSON(filename: str, contents: object):\n",
    "    # Create function to allow for file creation in output.\n",
    "    path = os.path.join(outputfolder, filename)\n",
    "    with open(path, 'w') as outputfile:\n",
    "        outputfile.write(json.dumps(contents))\n",
    "    print('JSON file write complete.')\n",
    "\n",
    "def writeErrorCSV(filename: str, contents: object):\n",
    "    path = os.path.join(outputfolder, filename)\n",
    "    with open(path, 'w') as outputfile:\n",
    "        fieldnames = ['subjectid', 'type', 'collection', 'visit', 'panel', 'sourceDate', 'sourceTime', 'comparisonDate', 'comparisonTime', 'message']\n",
    "        writer = csv.DictWriter(outputfile, fieldnames=fieldnames)\n",
    "        writer.writeheader() # place headers in csv file.\n",
    "        for key in contents:\n",
    "            if key == 'errors' or  key  == 'total':\n",
    "                    continue\n",
    "            for data in contents[key]:\n",
    "                # cycle through list of errors\n",
    "                sourcedate = '-'\n",
    "                sourcetime = '-'\n",
    "                comparisondate = '-'\n",
    "                comparisontime = '-'\n",
    "                msg =  ''\n",
    "                if 'date' in data and data['date']['error']:\n",
    "                    sourcedate = data['date']['source']\n",
    "                    comparisondate = data['date']['comparison']\n",
    "                if 'time' in data and data['time']['error']:\n",
    "                    sourcetime = data['time']['source']\n",
    "                    comparisontime = data['time']['comparison']\n",
    "                if 'msg' in data:\n",
    "                    msg = data['msg']\n",
    "\n",
    "                row = {\n",
    "                    'subjectid': data['subject'],\n",
    "                    'visit': data['visit'],\n",
    "                    'type': data['type'],\n",
    "                    'collection': data['collection'],\n",
    "                    'panel': data['panel'],\n",
    "                    'sourceDate': sourcedate,\n",
    "                    'sourceTime': sourcetime,\n",
    "                    'comparisonDate': comparisondate,\n",
    "                    'comparisonTime': comparisontime,\n",
    "                    'message': msg\n",
    "                }\n",
    "                writer.writerow(row) # write to file\n",
    "    print('CSV file write complete.')"
   ]
  },
  {
   "cell_type": "markdown",
   "metadata": {},
   "source": [
    "## Read Configuration File"
   ]
  },
  {
   "cell_type": "markdown",
   "metadata": {},
   "source": [
    "Context variables:"
   ]
  },
  {
   "cell_type": "code",
   "execution_count": null,
   "metadata": {
    "jupyter": {
     "source_hidden": true
    }
   },
   "outputs": [],
   "source": [
    "configfilename = './test/safety/config.json'"
   ]
  },
  {
   "cell_type": "markdown",
   "metadata": {},
   "source": [
    "Parse config file and establish relationships."
   ]
  },
  {
   "cell_type": "code",
   "execution_count": null,
   "metadata": {},
   "outputs": [],
   "source": [
    "configDict = dict()\n",
    "\n",
    "with open(configfilename) as jsonfile:\n",
    "    configDict = json.load(jsonfile)\n",
    "\n",
    "pprint.pp(configDict)"
   ]
  },
  {
   "cell_type": "markdown",
   "metadata": {},
   "source": [
    "## Read Medrio Source File\n",
    "\n",
    "Create dictionary mapping for each subject to allow for hash map search of data."
   ]
  },
  {
   "cell_type": "markdown",
   "metadata": {},
   "source": [
    "Context variables:"
   ]
  },
  {
   "cell_type": "code",
   "execution_count": null,
   "metadata": {},
   "outputs": [],
   "source": [
    "sourcefilename = './test/safety/source.csv'\n",
    "\n",
    "sourceMap = dict() # dictionary for subject data\n",
    "\n",
    "subjectidcol = 'Subject ID'\n",
    "visitCol = 'Visit'\n",
    "\n",
    "# Regular expression objects\n",
    "datetimeregex = re.compile(r'dattim', flags=re.I)\n",
    "coagregex = re.compile(r'coag', flags=re.I)\n",
    "chemregex = re.compile(r'chem', flags=re.I)\n",
    "glucregex = re.compile(r'gluc', flags=re.I)\n",
    "serregex = re.compile(r'ser', flags=re.I)\n",
    "haemregex = re.compile(r'haem', flags=re.I)\n",
    "urineregex = re.compile(r'UC')\n",
    "commregex = re.compile(r'comm', flags=re.I)"
   ]
  },
  {
   "cell_type": "markdown",
   "metadata": {},
   "source": [
    "Parse the source file and structure data into the __sourceMap__ dictionary variable."
   ]
  },
  {
   "cell_type": "code",
   "execution_count": null,
   "metadata": {},
   "outputs": [],
   "source": [
    "# Read File\n",
    "with open(sourcefilename) as csvfile:\n",
    "    reader = csv.DictReader(csvfile)\n",
    "    for row in reader:\n",
    "        # Get Period of Row\n",
    "        try:\n",
    "            visitid = configDict['match']['visit'][f'{row[visitCol]}']\n",
    "        except:\n",
    "            print(f'Error: Visit could not be matched from configuration file: {row[visitCol]}')\n",
    "            continue\n",
    "        \n",
    "        if row[subjectidcol] not in sourceMap:\n",
    "            sourceMap[f'{row[subjectidcol]}'] = dict()\n",
    "        if visitid not in sourceMap[f'{row[subjectidcol]}']:\n",
    "            sourceMap[f'{row[subjectidcol]}'][visitid] = dict()\n",
    "        \n",
    "        # Record data values\n",
    "        for key in row:\n",
    "            t = ''\n",
    "            if row[key] == '':\n",
    "                continue # skip empty cell values\n",
    "            value = dict()\n",
    "            if urineregex.search(key) is not None:\n",
    "                # Urine collection variable\n",
    "                t = 'urine'\n",
    "                if t not in sourceMap[f'{row[subjectidcol]}'][visitid]:\n",
    "                    sourceMap[f'{row[subjectidcol]}'][visitid][f'{t}'] = dict()\n",
    "                \n",
    "                if datetimeregex.search(key) is not None:\n",
    "                    # Date\n",
    "                    valueError = False\n",
    "                    try:\n",
    "                        value = {'datetime': datetime.datetime.strptime(row.get(key).strip(), '%m/%d/%y %H:%M')}\n",
    "                    except ValueError:\n",
    "                        valueError = True\n",
    "                    if valueError:\n",
    "                        # try another date & time format\n",
    "                        value = {'datetime': datetime.datetime.strptime(row.get(key).strip(), '%m/%d/%Y %H:%M')}\n",
    "                else:\n",
    "                    # Urine collected or not\n",
    "                    value = {'urine': row.get(key, 'No')}\n",
    "            else:\n",
    "                # Bloods\n",
    "                t = 'blood'\n",
    "                if t not in sourceMap[f'{row[subjectidcol]}'][visitid]:\n",
    "                    sourceMap[f'{row[subjectidcol]}'][visitid][f'{t}'] = dict()\n",
    "                \n",
    "                if datetimeregex.search(key) is not None:\n",
    "                    # Date\n",
    "                    valueError = False\n",
    "                    try:\n",
    "                        value = {'datetime': datetime.datetime.strptime(row.get(key).strip(), '%m/%d/%y %H:%M')}\n",
    "                    except ValueError:\n",
    "                        valueError = True\n",
    "                    if valueError:\n",
    "                        # try another date & time format\n",
    "                        value = {'datetime': datetime.datetime.strptime(row.get(key).strip(), '%m/%d/%Y %H:%M')}\n",
    "                    k = 'datetime'\n",
    "                elif coagregex.search(key) is not None:\n",
    "                    k = 'coag'\n",
    "                    value = {'coag': row.get(key, 'No')}\n",
    "                elif chemregex.search(key) is not None:\n",
    "                    k = 'chem'\n",
    "                    value = {'chem': row.get(key, 'No')}\n",
    "                elif glucregex.search(key) is not None:\n",
    "                    k = 'gluc'\n",
    "                    value = {'gluc': row.get(key, 'No')}\n",
    "                elif serregex.search(key) is not None:\n",
    "                    k = 'ser'\n",
    "                    value = {'ser': row.get(key, 'No')}\n",
    "                elif haemregex.search(key) is not None:\n",
    "                    k = 'haem'\n",
    "                    value = {'haem': row.get(key, 'No')}\n",
    "                elif commregex.search(key) is not None:\n",
    "                    k = 'comm'\n",
    "                    value = {'comm': row.get(key, '')}\n",
    "                else:\n",
    "                    k = key\n",
    "                    value = {'other': row.get(key, '')}\n",
    "            \n",
    "            sourceMap[f'{row[subjectidcol]}'][visitid][f'{t}'].update({**value})\n",
    "\n",
    "writeFile('sourceData.txt', sourceMap)\n",
    "#pprint.pp(sourceMap)"
   ]
  },
  {
   "cell_type": "markdown",
   "metadata": {},
   "source": [
    "## Read Comparison File"
   ]
  },
  {
   "cell_type": "markdown",
   "metadata": {},
   "source": [
    "Context variables:"
   ]
  },
  {
   "cell_type": "code",
   "execution_count": null,
   "metadata": {},
   "outputs": [],
   "source": [
    "comparisonMap = dict() # emtpy dictionary\n",
    "\n",
    "comparisonfilename = './test/safety/comparison_coh1&2.csv'\n",
    "\n",
    "#visitRegex = re.compile(r'visit.*([0-9])', flags=re.I)\n",
    "coagregex = re.compile(r'coag', flags=re.I)\n",
    "chemregex = re.compile(r'chem', flags=re.I)\n",
    "glucregex = re.compile(r'gluc', flags=re.I) # compared if 'TestPanel' is blank\n",
    "serregex = re.compile(r'ser', flags=re.I)\n",
    "haemregex = re.compile(r'haem', flags=re.I)\n",
    "commregex = re.compile(r'comm', flags=re.I)\n",
    "urineregex = re.compile(r'ur', flags=re.I)\n",
    "\n",
    "# scheduleCol = 'Scheduled time (hrs post dose)'\n",
    "subjectCol1 = 'PatientID1'\n",
    "subjectCol2 = 'PatientID2'\n",
    "dateCol = 'CollDate'\n",
    "timeCol = 'CollTime'\n",
    "visitCol = 'Visit'\n",
    "panelCol = 'TestPanel'\n",
    "nameCol = 'ResultName'"
   ]
  },
  {
   "cell_type": "markdown",
   "metadata": {},
   "source": [
    "Parse comparison file data and structure into the __comparisonMap__ dictionary"
   ]
  },
  {
   "cell_type": "code",
   "execution_count": null,
   "metadata": {},
   "outputs": [],
   "source": [
    "# Read File\n",
    "with open(comparisonfilename) as csvfile:\n",
    "    reader = csv.DictReader(csvfile)\n",
    "    for row in reader:\n",
    "        if row[dateCol] == '':\n",
    "            continue # Skip empty rows\n",
    "        # Interpret Visit\n",
    "        try:\n",
    "            visitid = configDict['match']['visit'][f'{row[visitCol]}']\n",
    "        except:\n",
    "            print(f'Error: Visit could not be matched from configuration file: {row[visitCol]}')\n",
    "            continue\n",
    "        \n",
    "        subject = f'{row[subjectCol1]}' # medrio subject id\n",
    "        if visitid == 6:\n",
    "            continue # skip unscheduled visit\n",
    "        if subject not in comparisonMap:\n",
    "            comparisonMap[subject] = dict()\n",
    "        if visitid not in comparisonMap[subject]:\n",
    "            comparisonMap[subject][visitid] = dict()\n",
    "        \n",
    "        # Fetch infomation\n",
    "        info = dict()\n",
    "        timeval = {\n",
    "            'date': datetime.datetime.strptime(row.get(dateCol).strip(), '%d/%m/%y'),\n",
    "            'time': datetime.datetime.strptime(row.get(timeCol).strip(), '%H:%M:%S')\n",
    "        }\n",
    "        k = None # test name\n",
    "        \n",
    "        if coagregex.search(row[panelCol]) is not None:\n",
    "            k = 'coag'\n",
    "            info['coag'] = {**timeval}\n",
    "        elif chemregex.search(row[panelCol]) is not None:\n",
    "            k = 'chem'\n",
    "            info['chem'] = {**timeval}\n",
    "        elif serregex.search(row[panelCol]) is not None:\n",
    "            k = 'ser'\n",
    "            info['ser'] = {**timeval}\n",
    "        elif haemregex.search(row[panelCol]) is not None:\n",
    "            k = 'haem'\n",
    "            info['haem'] = {**timeval}\n",
    "        elif urineregex.search(row[panelCol]) is not None:\n",
    "            k = 'urine'\n",
    "            info['urine'] = {**timeval}\n",
    "        elif row[panelCol] == '':\n",
    "            if glucregex.search(row[nameCol]) is not None:\n",
    "                k = 'gluc'\n",
    "                info['gluc'] = {**timeval}\n",
    "            else:\n",
    "                continue # not interested - unkown collection\n",
    "        else:\n",
    "            continue # not interested - unknown collection\n",
    "        \n",
    "        # Append new information if verified to be identical\n",
    "        if k not in comparisonMap[subject][visitid]:\n",
    "            # print(comparisonMap[subject][visitid])\n",
    "            comparisonMap[subject][visitid].update({**info}) # remember values\n",
    "        elif comparisonMap[subject][visitid][k]['date'] != info[k]['date']:\n",
    "            # the date in script does not match previously recorded dates\n",
    "            error = {\n",
    "                'subject': subject,\n",
    "                'visit': row[visitCol],\n",
    "                **info\n",
    "            }\n",
    "            pprint.pp(error)\n",
    "            pprint.pp(comparisonMap[subject][visitid])\n",
    "            raise Exception(\"ERROR: date for data point is not consistent within file!\")\n",
    "        elif comparisonMap[subject][visitid][k]['time'] != info[k]['time']:\n",
    "            # the date in script does not match previously recorded dates\n",
    "            error = {\n",
    "                'subject': subject,\n",
    "                'visit': row[visitCol],\n",
    "                **info\n",
    "            }\n",
    "            pprint.pp(error)\n",
    "            pprint.pp(comparisonMap[subject][visitid])\n",
    "            raise Exception(\"ERROR: time for data point is not consistent within file!\")\n",
    "        else:\n",
    "            # append information\n",
    "            comparisonMap[subject][visitid].update(info)\n",
    "            #pprint.pp(comparisonMap[f'{row[subjectCol]}'][visitid])\n",
    "            \n",
    "\n",
    "writeFile('comparisonData.txt', comparisonMap)\n",
    "# pprint.pp(comparisonMap)"
   ]
  },
  {
   "cell_type": "markdown",
   "metadata": {},
   "source": [
    "## Parse Data & Assess Equality"
   ]
  },
  {
   "cell_type": "markdown",
   "metadata": {},
   "source": [
    "Context variables:"
   ]
  },
  {
   "cell_type": "markdown",
   "metadata": {},
   "source": [
    "Compare matching data points and flag inequalities:"
   ]
  },
  {
   "cell_type": "code",
   "execution_count": null,
   "metadata": {},
   "outputs": [],
   "source": [
    "outputLog = {\"errors\": 0, \"total\": 0}\n",
    "\n",
    "urineregex = re.compile(r'urine', flags=re.I) # search for urine data\n",
    "\n",
    "subjectKeys = sourceMap.keys().__str__() # allows for extraction of medrio subject id's\n",
    "\n",
    "for s in comparisonMap:\n",
    "    pattern = f'{s}-([0-9]){{5}}'\n",
    "    match = re.search(pattern, subjectKeys) # find medrio subject id using the screening number\n",
    "    if match is None:\n",
    "        print(f'{pattern} not in source.')\n",
    "        continue # not in source\n",
    "    \n",
    "    subject = match.group(0)\n",
    "    outputLog[f'{subject}'] = list() # status reporting\n",
    "\n",
    "    # Compare data & log any errors\n",
    "    for visitid in comparisonMap[s]:\n",
    "        for panel in comparisonMap[s][visitid]:\n",
    "            visitName = configDict['match']['visit']['_array'][visitid]\n",
    "            errorObject = dict()\n",
    "            datecmp = False\n",
    "            timecmp = False\n",
    "            \n",
    "            t = '' # bloods or urine\n",
    "            if urineregex.match(panel) is not None:\n",
    "                t = 'urine'\n",
    "            else:\n",
    "                t = 'blood'\n",
    "            \n",
    "            # Cycle through date and time variables to be compared\n",
    "            try:\n",
    "                if visitid not in sourceMap[subject]:\n",
    "                    raise Exception(f'Visit not defined for the subject in source: {visitName}')\n",
    "                if sourceMap[subject][visitid][t].get(panel, None) is not None and sourceMap[subject][visitid][t].get(panel, '') == 'Yes':\n",
    "                    datecmp = sourceMap[subject][visitid][t]['datetime'].date() == comparisonMap[s][visitid][panel]['date'].date()\n",
    "                    timecmp = sourceMap[subject][visitid][t]['datetime'].time() == comparisonMap[s][visitid][panel]['time'].time()\n",
    "                else:\n",
    "                    raise Exception('Test panel is not registed in the source data')\n",
    "\n",
    "                if not datecmp:\n",
    "                    # if date's are not equivalent\n",
    "                    dateError = {\n",
    "                            \"source\": sourceMap[subject][visitid][t]['datetime'].date().isoformat(),\n",
    "                            \"comparison\": comparisonMap[s][visitid][panel]['date'].date().isoformat(),\n",
    "                            \"error\": True\n",
    "                        }\n",
    "                    errorObject = {\n",
    "                        \"error\": True,\n",
    "                        \"type\": \"ERROR\",\n",
    "                        \"date\": dateError\n",
    "                    }\n",
    "\n",
    "                if not timecmp:\n",
    "                    # if time's are not equivalent\n",
    "                    timeError = {\n",
    "                            \"source\": sourceMap[subject][visitid][t]['datetime'].time().isoformat(),\n",
    "                            \"comparison\": comparisonMap[s][visitid][panel]['time'].time().isoformat(),\n",
    "                            \"error\": True\n",
    "                        }\n",
    "                    errorObject = {\n",
    "                        \"error\": True,\n",
    "                        \"type\": \"ERROR\",\n",
    "                        \"time\": timeError\n",
    "                    }\n",
    "                if 'comm' in sourceMap[subject][visitid][t]:\n",
    "                    # Comments where recorded hence just flag them for checking.\n",
    "                    errorObject = {\n",
    "                        \"error\": True,\n",
    "                        \"type\": \"WARNING\",\n",
    "                        \"msg\": sourceMap[subject][visitid][t]['comm'],\n",
    "                        \"date\": {\n",
    "                            \"source\": sourceMap[subject][visitid][t]['datetime'].date().isoformat(),\n",
    "                            \"comparison\": comparisonMap[s][visitid][panel]['date'].date().isoformat(),\n",
    "                            \"error\": True\n",
    "                        },\n",
    "                        \"time\": {\n",
    "                            \"source\": sourceMap[subject][visitid][t]['datetime'].time().isoformat(),\n",
    "                            \"comparison\": comparisonMap[s][visitid][panel]['time'].time().isoformat(),\n",
    "                            \"error\": True\n",
    "                        }\n",
    "                    }\n",
    "            \n",
    "            except KeyError as e:\n",
    "                print(e)\n",
    "                errorObject = {\n",
    "                    \"type\": \"WARNING\",\n",
    "                    \"error\": True,\n",
    "                    'msg': \"Warning: variable most likely not defined for subject in source.\"\n",
    "                }\n",
    "            except Exception as e:\n",
    "                errorObject = {\n",
    "                        \"error\": True,\n",
    "                        \"type\": \"WARNING\",\n",
    "                        \"msg\": f'{e}',\n",
    "                        \"panel\": panel,\n",
    "                        \"visit\": visitName,\n",
    "                    }\n",
    "            except:\n",
    "                print('Unknown Error Occured.')\n",
    "                errorObject = {\n",
    "                    \"error\": True,\n",
    "                    \"type\": \"ERROR\",\n",
    "                    'msg': \"Unknown error occured\",\n",
    "                }\n",
    "            finally:\n",
    "                if errorObject.get('error', False):\n",
    "                    outputLog['errors'] += 1\n",
    "                    outputLog[f'{subject}'].append({\n",
    "                        **errorObject,\n",
    "                        'visit': visitName,\n",
    "                        'panel': panel,\n",
    "                        'subject': subject,\n",
    "                        'collection': t\n",
    "                    })\n",
    "                outputLog['total'] += 1 # increment number of variables assessed\n",
    "\n",
    "            \n",
    "writeJSON('output.json', outputLog)\n",
    "writeFile('output.txt', outputLog)\n",
    "writeErrorCSV('output.csv', outputLog)"
   ]
  },
  {
   "cell_type": "markdown",
   "metadata": {},
   "source": [
    "## Plotting Results"
   ]
  },
  {
   "cell_type": "code",
   "execution_count": null,
   "metadata": {},
   "outputs": [],
   "source": [
    "pyplot.pie([outputLog['errors'], outputLog['total']], labels=[outputLog['errors'], outputLog['total']], colors=['#f42613', '#47f747'])"
   ]
  },
  {
   "cell_type": "code",
   "execution_count": null,
   "metadata": {},
   "outputs": [],
   "source": []
  }
 ],
 "metadata": {
  "kernelspec": {
   "display_name": "Python 3",
   "language": "python",
   "name": "python3"
  },
  "language_info": {
   "codemirror_mode": {
    "name": "ipython",
    "version": 3
   },
   "file_extension": ".py",
   "mimetype": "text/x-python",
   "name": "python",
   "nbconvert_exporter": "python",
   "pygments_lexer": "ipython3",
   "version": "3.8.2"
  }
 },
 "nbformat": 4,
 "nbformat_minor": 4
}
