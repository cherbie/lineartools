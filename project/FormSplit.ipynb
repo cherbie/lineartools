{
 "cells": [
  {
   "cell_type": "markdown",
   "metadata": {},
   "source": [
    "# Splitting data on a per form basis\n",
    "\n",
    "This notebook is responsible for collating information from the given _.xlsx_ file with worksheets containing information on a per subject basis. This data is then stored in seperate _.xlsx_ files based on a studies respective __Medrio__ form names. The resulting output files are hence compatible for bulk upload into the subjects stored data."
   ]
  },
  {
   "cell_type": "markdown",
   "metadata": {},
   "source": [
    "The following code cell imports all the necessary source code dependencies."
   ]
  },
  {
   "cell_type": "code",
   "execution_count": null,
   "metadata": {},
   "outputs": [],
   "source": [
    "import os, time, sys\n",
    "from src import FileReader, workbookParser, ConfigParser"
   ]
  },
  {
   "cell_type": "markdown",
   "metadata": {},
   "source": [
    "The function, __main__, acts as a container for all the business logic. The workflow grammar can be described as follows:\n",
    " 1. Fetch the location/path of the config file (_.json_)\n",
    " 2. Check the path specified exists\n",
    "    - Return an error if the input file does not exist\n",
    " 3. Parse the contents of the config file\n",
    " 4. Read the input file from the path specified in the config file.\n",
    " 5. Using the input file reader, iterate over each worksheet and each subsequent row storing data found along the way.\n",
    " 6. For the data stored, write to the specified output location _.xlsx_ files on a per form basis capturing all data found.\n",
    " 7. Process complete"
   ]
  },
  {
   "cell_type": "code",
   "execution_count": null,
   "metadata": {},
   "outputs": [],
   "source": [
    "def main():\n",
    "    configFile = input('Location of CONFIG file (.json): ')\n",
    "    \n",
    "    if not os.path.exists(configFile):\n",
    "        print('Configuration file could not be found. Please review the file path.')\n",
    "        raise Exception('CONFIG FILE PATH ERROR. THE SPECIFIED PATH DOES NOT EXIST.\\n')\n",
    "    \n",
    "    print(' ... reading config file')\n",
    "    config = ConfigParser(configFile)\n",
    "    print(' ... reading excel file')\n",
    "    wb_reader = FileReader(config.getInputFile())\n",
    "    print(' ... parsing file data')\n",
    "    workbookParser(wb_reader, config) # business logic\n",
    "    print(' ... process complete')\n",
    "\n",
    "try:\n",
    "    main()\n",
    "except Exception as err:\n",
    "    print(err)\n",
    "    print(\"Please restart the kernal and run again.\")"
   ]
  }
 ],
 "metadata": {
  "kernelspec": {
   "display_name": "Python 3",
   "language": "python",
   "name": "python3"
  },
  "language_info": {
   "codemirror_mode": {
    "name": "ipython",
    "version": 3
   },
   "file_extension": ".py",
   "mimetype": "text/x-python",
   "name": "python",
   "nbconvert_exporter": "python",
   "pygments_lexer": "ipython3",
   "version": "3.8.1"
  }
 },
 "nbformat": 4,
 "nbformat_minor": 4
}
