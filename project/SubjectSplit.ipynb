{
 "cells": [
  {
   "cell_type": "markdown",
   "metadata": {},
   "source": [
    "# Splitting worksheet on a per subject basis\n",
    "\n",
    "The following source code cells are responsible for splitting a singular _.xlsx_ file containing a single worksheet into multiple worksheets on a per subject basis. This is intended to be executed prior to preparing the file for the study team to populate their respective columns. Information needed prior to execution include:\n",
    " - Input _.xlsx_ file containing all collected ECG information\n",
    " - Desired output file/path destination\n",
    " - A column containing the unique subject identifier for each subject"
   ]
  },
  {
   "cell_type": "code",
   "execution_count": null,
   "metadata": {},
   "outputs": [],
   "source": [
    "from src import FileReader, FileWriterXL\n",
    "import os"
   ]
  },
  {
   "cell_type": "markdown",
   "metadata": {},
   "source": [
    "The function, main, acts as a container for all the business logic. The workflow grammar can be described as follows:\n",
    "\n",
    " 1. Retrieve the location/path of the input _.xlsx_ file\n",
    " 2. Ensure the path specified exist. If not, raise an exception/error.\n",
    " 3. Get the _.xlsx_ workbook metadata\n",
    " 4. Fetch the column number in which the subjects unique identifier can be found\n",
    " 5. Collate all information related to a particular subject\n",
    " 6. Read the specified output file's location\n",
    " 7. Create the output file along with all thee worksheets containing subject specific data."
   ]
  },
  {
   "cell_type": "code",
   "execution_count": null,
   "metadata": {},
   "outputs": [],
   "source": [
    "def main():\n",
    "    filename = input(\"Input filename / location:\\n\") # GET FILENAME / LOCATION\n",
    "\n",
    "    # CHECK THE INPUT FILE EXISTS\n",
    "    if not os.path.exists(filename):\n",
    "        raise Exception(f\"Specified input file path does not exist ...\\n{filename}\")\n",
    "\n",
    "    # GET XLSX WORKBOOK METADATA\n",
    "    wb_reader = FileReader(filename)\n",
    "    sheetname = wb_reader.getSheetnames()[0]\n",
    "    ws = wb_reader.getWorksheet(sheetname)\n",
    "    headers = wb_reader.getSheetHeaders(sheetname)\n",
    "\n",
    "    # GET THE COLUMN\n",
    "    id_col = int(input(\"Column number of unique subject identifier: (Note: Column A = 0)\\n\"))\n",
    "    # id_col = 6\n",
    "\n",
    "    # Look for participants\n",
    "    participants = {}\n",
    "    rows = ws.iter_rows(min_row=2, values_only=True)\n",
    "    for row in rows:\n",
    "        if row[id_col] is None:\n",
    "            break\n",
    "        elif row[id_col] == 'VOID':\n",
    "            continue\n",
    "        else:\n",
    "            # parser.parseRow(row, subject)\n",
    "            id = row[id_col].upper().replace(' ', '') # STANDARDISE TO UPPER CASE & NO SPACE\n",
    "            if participants.get(f'{id}', None) is None:\n",
    "                participants[f'{id}'] = []\n",
    "            values = {}\n",
    "            for index, header in enumerate(headers):\n",
    "                values[f'{header}'] = row[index]\n",
    "            participants[f'{id}'].append(values)\n",
    "\n",
    "    # RETREIVE LOCATION OF OUTPUT FOLDER\n",
    "    outputfolder = input('Output folder location:\\n')\n",
    "    \n",
    "    # CHECK OUTPUT FOLDER EXISTS\n",
    "    if not os.path.exists(outputfolder):\n",
    "        raise Exception('Specified output folder path does not exist.')\n",
    "    \n",
    "    outputfilename = os.path.join(outputfolder, 'output')\n",
    "\n",
    "    # WRITE TO FILE NEW SHEETS\n",
    "    wb_writer = FileWriterXL(outputfilename, headers)\n",
    "    for key, value in participants.items():\n",
    "        print(key)\n",
    "        wb_writer.bulkWriteSheet(key, value)\n",
    "\n",
    "    wb_writer.close() # saves the document\n",
    "\n",
    "try:\n",
    "    main()\n",
    "except Exception as err:\n",
    "    print(\"An error has occured!\\n\\n\")\n",
    "    print(err)\n",
    "    print(\"Please restart the kernal and run again.\")"
   ]
  }
 ],
 "metadata": {
  "kernelspec": {
   "display_name": "Python 3",
   "language": "python",
   "name": "python3"
  },
  "language_info": {
   "codemirror_mode": {
    "name": "ipython",
    "version": 3
   },
   "file_extension": ".py",
   "mimetype": "text/x-python",
   "name": "python",
   "nbconvert_exporter": "python",
   "pygments_lexer": "ipython3",
   "version": "3.8.1"
  }
 },
 "nbformat": 4,
 "nbformat_minor": 4
}
