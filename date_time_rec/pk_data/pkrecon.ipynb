{
 "cells": [
  {
   "cell_type": "markdown",
   "metadata": {},
   "source": [
    "# PK Date & Time Reconciliation"
   ]
  },
  {
   "cell_type": "markdown",
   "metadata": {},
   "source": [
    "## Link Google Drive\n",
    "Authorise application access to Google Drive (read & write permission)."
   ]
  },
  {
   "cell_type": "code",
   "execution_count": null,
   "metadata": {},
   "outputs": [],
   "source": [
    "from google.colab import drive\n",
    "drive.mount('/content/drive')"
   ]
  },
  {
   "cell_type": "code",
   "execution_count": null,
   "metadata": {},
   "outputs": [],
   "source": [
    "%cd \"drive/My Drive/Colab Notebooks\""
   ]
  },
  {
   "cell_type": "code",
   "execution_count": null,
   "metadata": {},
   "outputs": [],
   "source": [
    "%ls -l"
   ]
  },
  {
   "cell_type": "markdown",
   "metadata": {},
   "source": [
    "Import external modules."
   ]
  },
  {
   "cell_type": "code",
   "execution_count": null,
   "metadata": {},
   "outputs": [],
   "source": [
    "import csv\n",
    "import json\n",
    "import pprint\n",
    "import datetime\n",
    "import os\n",
    "import re\n",
    "from matplotlib import pyplot\n",
    "\n",
    "%matplotlib inline"
   ]
  },
  {
   "cell_type": "markdown",
   "metadata": {},
   "source": [
    "## Setup Output Folder"
   ]
  },
  {
   "cell_type": "markdown",
   "metadata": {},
   "source": [
    "_Global_ scope variables:"
   ]
  },
  {
   "cell_type": "code",
   "execution_count": null,
   "metadata": {},
   "outputs": [],
   "source": [
    "outputfolder = './test/pk/output'"
   ]
  },
  {
   "cell_type": "markdown",
   "metadata": {},
   "source": [
    "Create the __output folder__ in which all output files will be placed."
   ]
  },
  {
   "cell_type": "code",
   "execution_count": null,
   "metadata": {},
   "outputs": [],
   "source": [
    "if not os.path.exists(outputfolder):\n",
    "    os.makedirs(outputfolder, 0o755) # owner execution "
   ]
  },
  {
   "cell_type": "markdown",
   "metadata": {},
   "source": [
    "View contents of folder:"
   ]
  },
  {
   "cell_type": "code",
   "execution_count": null,
   "metadata": {},
   "outputs": [],
   "source": [
    "%ls -l ./test"
   ]
  },
  {
   "cell_type": "markdown",
   "metadata": {},
   "source": [
    "Define output file writing functions:"
   ]
  },
  {
   "cell_type": "code",
   "execution_count": null,
   "metadata": {},
   "outputs": [],
   "source": [
    "def writeFile(filename: str, contents: object):\n",
    "    # Create function to allow for file creation in output.\n",
    "    path = os.path.join(outputfolder, filename)\n",
    "    with open(path, 'w') as outputfile:\n",
    "        outputfile.write(pprint.pformat(contents))\n",
    "\n",
    "def writeJSON(filename: str, contents: object):\n",
    "    # Create function to allow for file creation in output.\n",
    "    path = os.path.join(outputfolder, filename)\n",
    "    with open(path, 'w') as outputfile:\n",
    "        outputfile.write(json.dumps(contents))\n",
    "        \n",
    "def writeErrorCSV(filename: str, contents: object):\n",
    "    path = os.path.join(outputfolder, filename)\n",
    "    with open(path, 'w') as outputfile:\n",
    "        fieldnames = ['subjectid', 'period', 'timepoint', 'sourceDate', 'sourceTime', 'pkDate', 'pkTime', 'message']\n",
    "        writer = csv.DictWriter(outputfile, fieldnames=fieldnames)\n",
    "        writer.writeheader() # place headers in csv file.\n",
    "        for key in contents:\n",
    "            if key == 'errors' or  key  == 'total':\n",
    "                    continue\n",
    "            for data in contents[key]:\n",
    "                # cycle through list of errors\n",
    "                sourcedate = '-'\n",
    "                sourcetime = '-'\n",
    "                pkdate = '-'\n",
    "                pktime = '-'\n",
    "                msg =  ''\n",
    "                if data['date']['error']:\n",
    "                    sourcedate = data['date']['source']\n",
    "                    pkdate = data['date']['pk']\n",
    "                if data['time']['error']:\n",
    "                    sourcetime = data['time']['source']\n",
    "                    pktime = data['time']['pk']\n",
    "                if 'msg' in data:\n",
    "                    msg = data['msg']\n",
    "\n",
    "                row = {\n",
    "                    'subjectid': data['subjectid'],\n",
    "                    'period': data['period'],\n",
    "                    'timepoint': data['timepoint'],\n",
    "                    'sourceDate': sourcedate,\n",
    "                    'sourceTime': sourcetime,\n",
    "                    'pkDate': pkdate,\n",
    "                    'pkTime': pktime,\n",
    "                    'message': msg\n",
    "                }\n",
    "                writer.writerow(row) # write to file\n",
    "    print('CSV write complete.')"
   ]
  },
  {
   "cell_type": "markdown",
   "metadata": {},
   "source": [
    "## Create Mapping\n",
    "\n",
    "Map csv file records to the csv file records of medrio using the randomisation number. This _ipython_ cell attempts to avoid the user manually having to specify the mapping of each subject to data, instead just provide a file that maps a certain __Subject ID__ to a certain __Randomisation Number__."
   ]
  },
  {
   "cell_type": "code",
   "execution_count": null,
   "metadata": {},
   "outputs": [],
   "source": [
    "# [TODO] Define the file path to the randomisation number to subject-id mapping\n",
    "rand_filename: str = './test/pk/rand_coh1.csv'\n",
    "\n",
    "subjectMap = dict() # dictionary for randomisation to subject id.\n",
    "\n",
    "# [TODO] - Column header for randomisation number\n",
    "randCol = 'DARandNum_C'\n",
    "\n",
    "# [TODO] - Column header for subject id\n",
    "subjectCol = 'Subject ID' \n",
    "\n",
    "# Read the file\n",
    "with open(rand_filename) as csvfile:\n",
    "    reader = csv.DictReader(csvfile)\n",
    "    for row in reader:\n",
    "        subjectMap[f'{row[randCol]}'] = row[subjectCol]\n",
    "\n",
    "writeFile('subjectMapping.txt', subjectMap)"
   ]
  },
  {
   "cell_type": "markdown",
   "metadata": {},
   "source": [
    "## Read Configuration File"
   ]
  },
  {
   "cell_type": "markdown",
   "metadata": {},
   "source": [
    "Parse config file and establish relationships."
   ]
  },
  {
   "cell_type": "code",
   "execution_count": null,
   "metadata": {},
   "outputs": [],
   "source": [
    "# [TODO] - Specify the file path to the config file\n",
    "config_filename = './test/pk/config.json'\n",
    "\n",
    "configDict = dict()\n",
    "\n",
    "with open(config_filename) as jsonfile:\n",
    "    configDict = json.load(jsonfile)\n",
    "\n",
    "pprint.pp(configDict)"
   ]
  },
  {
   "cell_type": "markdown",
   "metadata": {},
   "source": [
    "## Read Medrio Source File\n",
    "\n",
    "Create dictionary mapping for each subject to allow for hash map search of data."
   ]
  },
  {
   "cell_type": "markdown",
   "metadata": {},
   "source": [
    "Context variables:"
   ]
  },
  {
   "cell_type": "code",
   "execution_count": null,
   "metadata": {},
   "outputs": [],
   "source": [
    "# [TODO] - Specify the file path to the Medrio source file\n",
    "source_filename = './test/pk/source_coh1.csv'\n",
    "\n",
    "# [TODO] - Specify the column header for the subject id details\n",
    "subjectidcol = 'Subject ID'\n",
    "# [TODO] - Specify the column header for the visit details\n",
    "visitCol = 'Visit' # used to find the period\n",
    "\n",
    "# REGULAR EXPRESSION OBJECTS\n",
    "# [TODO] - Specify the regular expression that can identify the date column\n",
    "dateregex = re.compile(r'dat', flags=re.I)\n",
    "\n",
    "# [TODO] - Specify the regular expression that can identify the time column\n",
    "timeregex = re.compile(r'tim', flags=re.I)\n",
    "\n",
    "# [TODO] - Specify the regular expression that can identify the period of the data\n",
    "# Note: Only applicable to certain studies so comment out if not needed (as well as any other occurences of this variable)\n",
    "# Use the regular expression \"capture groups\" to highlight the period number => ([0-9])\n",
    "periodRegex = re.compile(r'period.*([0-9])', flags=re.I)"
   ]
  },
  {
   "cell_type": "markdown",
   "metadata": {},
   "source": [
    "Parse the source file and structure data into the __sourceMap__ dictionary variable."
   ]
  },
  {
   "cell_type": "code",
   "execution_count": null,
   "metadata": {},
   "outputs": [],
   "source": [
    "# DICTIONARY FOR SUBJECT DATA\n",
    "sourceMap = dict()\n",
    "\n",
    "# READ THE SOURCE FILE\n",
    "with open(source_filename) as csvfile:\n",
    "    reader = csv.DictReader(csvfile)\n",
    "    for row in reader:\n",
    "        \n",
    "        # GET THE PERIOD FOR ROW OF DATA\n",
    "        match = periodRegex.search(row.get(visitCol).strip())\n",
    "        if match is None:\n",
    "            print(\"Error: Visit period could not be matched.\")\n",
    "            continue\n",
    "        \n",
    "        # ADD DATA FOR A PARTICULAR SUBJECT ID INTO THE SOURCE MAP DICTIONARY\n",
    "        if row[subjectidcol] not in sourceMap:\n",
    "            sourceMap[f'{row[subjectidcol]}'] = dict()\n",
    "        if match.group(1) not in sourceMap[f'{row[subjectidcol]}']: # NOTE USES REGEX MATCH FOR GROUP TO DETERMINE THE PERIOD NUMBER (1 OR 2 etc.)\n",
    "            sourceMap[f'{row[subjectidcol]}'][f'{match.group(1)}'] = dict()\n",
    "        \n",
    "        # WRITE DATA VALUES TO SOURCE\n",
    "        # CYCLE THROUGH EACH COLUMN IN ROW\n",
    "        for key in row:\n",
    "            if row[key] == '': # EMPTY\n",
    "                continue\n",
    "            value = None\n",
    "            if dateregex.search(key) is not None:\n",
    "                # DATE VARIABLE\n",
    "                value = datetime.datetime.strptime(row.get(key).strip(), '%m/%d/%Y')\n",
    "            elif timeregex.search(key) is not None:\n",
    "                # TIME VARIABLE\n",
    "                value = datetime.datetime.strptime(row.get(key).strip(), '%H:%M')\n",
    "            else:\n",
    "                # INCLUDE EXTRA VARIABLES\n",
    "                value = row.get(key, '')\n",
    "            \n",
    "            sourceMap[f'{row[subjectidcol]}'][f'{match.group(1)}'][f'{key}'] = value # WRITE VALUE TO SOURCE MAP\n",
    "\n",
    "writeFile('source_data_debugging.txt', sourceMap) # OUTPUT MEDRIO DEBUGGING FILE"
   ]
  },
  {
   "cell_type": "markdown",
   "metadata": {},
   "source": [
    "## Source Map Dictionary Structure\n",
    "\n",
    "```\n",
    "{\n",
    "    \"subject_id\": {\n",
    "        \"period_id\": {\n",
    "            \"medrio_variable\": {\n",
    "                \"date\": date-object,\n",
    "                \"time\": time-object,\n",
    "                ...\n",
    "             },\n",
    "             ...\n",
    "         },\n",
    "         ...\n",
    "     },\n",
    "     ...\n",
    "}\n",
    "```"
   ]
  },
  {
   "cell_type": "markdown",
   "metadata": {},
   "source": [
    "## Read Comparison File"
   ]
  },
  {
   "cell_type": "markdown",
   "metadata": {},
   "source": [
    "Context variables:"
   ]
  },
  {
   "cell_type": "code",
   "execution_count": null,
   "metadata": {},
   "outputs": [],
   "source": [
    "# [TODO] - Specify the file path to the comparison csv file\n",
    "comparisonfilename = './test/pk/comparison_1.csv'\n",
    "\n",
    "# [TODO] - Specify the column header name for the randomisation id column (exact string)\n",
    "randomisationCol = 'Subject'\n",
    "# [TODO] - Specify the column header name for the period identifier column (exact string)\n",
    "periodCol = 'Period'\n",
    "\n",
    "# [TODO] - Specify the regular expression that can identify the period of the data\n",
    "# Note: Only applicable to certain studies so comment out if not needed (as well as any other occurences of this variable)\n",
    "# Use the regular expression \"capture groups\" to highlight the period number => ([0-9])\n",
    "periodRegex = re.compile(r'period.*([0-9])', flags=re.I)\n",
    "\n",
    "# [TODO] - Specify the exact string column header of the input comparison file for the timepoint data point\n",
    "scheduleCol = 'Scheduled time (hrs post dose)'\n",
    "\n",
    "# [TODO] - Specify the exact string column header of the input comparison file for the date data point\n",
    "dateCol = 'Blood Sample date'\n",
    "\n",
    "# [TODO] - Specify the exact string column header of the input comparison file for the time data point\n",
    "timeCol = 'Blood Sample time (24 hrs format)'"
   ]
  },
  {
   "cell_type": "markdown",
   "metadata": {},
   "source": [
    "Parse comparison file data and structure into the __comparisonMap__ dictionary"
   ]
  },
  {
   "cell_type": "code",
   "execution_count": null,
   "metadata": {},
   "outputs": [],
   "source": [
    "# DICTIONARY OF COMPARISON DATA\n",
    "comparisonMap = dict()\n",
    "\n",
    "# READ THE COMPARISON FILE\n",
    "with open(comparisonfilename) as csvfile:\n",
    "    reader = csv.DictReader(csvfile)\n",
    "    for row in reader:\n",
    "        if row[dateCol] == '':\n",
    "            continue # SKIP EMPTY ROWS\n",
    "        \n",
    "        # EXTRACT PERIOD OF DATA\n",
    "        match = periodRegex.search(row.get(periodCol,''))\n",
    "        if match is None:\n",
    "            print(\"Error: Visit period could not be matched.\")\n",
    "            continue\n",
    "        \n",
    "        # CHECK IF DICTIONARY OBJECT STILL NEEDS TO BE CREATED OR ONE HAS ALREADY BEEN CREATED.\n",
    "        if row[randomisationCol] not in comparisonMap:\n",
    "            comparisonMap[f'{row[randomisationCol]}'] = dict()\n",
    "        if match.group(1) not in comparisonMap[f'{row[randomisationCol]}']:\n",
    "            comparisonMap[f'{row[randomisationCol]}'][f'{match.group(1)}'] = dict()\n",
    "        \n",
    "        # GATHER INFORMATION IN ROW BASED ON COLUMN HEADERS\n",
    "        info = {\n",
    "            \"timepoint\": row.get(scheduleCol, ''),\n",
    "            \"date\": datetime.datetime.strptime(row.get(dateCol).strip(), '%d-%b-%y'),\n",
    "            \"time\": datetime.datetime.strptime(row.get(timeCol).strip(), '%H:%M:%S')\n",
    "        }\n",
    "        \n",
    "        # APPEND THE GATHERED INFORMATION TO THE COMPARISON MAP\n",
    "        if info['timepoint'] not in comparisonMap[f'{row[randomisationCol]}'][f'{match.group(1)}']:\n",
    "            comparisonMap[f'{row[randomisationCol]}'][f'{match.group(1)}'][f'{info[\"timepoint\"]}'] = info\n",
    "        elif comparisonMap[f'{row[randomisationCol]}'][f'{match.group(1)}'][f'{info[\"timepoint\"]}']['date'] != info['date']:\n",
    "            # the date in script does not match previously recorded dates\n",
    "            raise Exception(\"ERROR: date for data point is not consistent within file!\")\n",
    "        elif comparisonMap[f'{row[randomisationCol]}'][f'{match.group(1)}'][f'{info[\"timepoint\"]}']['time'] != info['time']:\n",
    "            # the date in script does not match previously recorded dates\n",
    "            raise Exception(\"ERROR: time for data point is not consistent within file!\")\n",
    "\n",
    "writeFile('comparisonData.txt', comparisonMap)"
   ]
  },
  {
   "cell_type": "markdown",
   "metadata": {},
   "source": [
    "## Comparison Map Dictionary Structure\n",
    "\n",
    "```\n",
    "{\n",
    "    \"randomisation_number\": {\n",
    "        \"period_id\": {\n",
    "            \"timepoint\": {\n",
    "                \"date\": date-object\n",
    "                \"time\": time-object\n",
    "             },\n",
    "             ...\n",
    "         },\n",
    "         ...\n",
    "     },\n",
    "     ...\n",
    "}\n",
    "```"
   ]
  },
  {
   "cell_type": "markdown",
   "metadata": {},
   "source": [
    "## Parse Data & Assess Equality"
   ]
  },
  {
   "cell_type": "markdown",
   "metadata": {},
   "source": [
    "Compare matching data points and flag inequalities. This block of code will only flag errors, hence assume date and time's are consistent if there is nothing to report in the output files."
   ]
  },
  {
   "cell_type": "code",
   "execution_count": null,
   "metadata": {},
   "outputs": [],
   "source": [
    "outputLog = {\"errors\": 0, \"total\": 0} # Keep track of errors so that an error log can be printed / written to file\n",
    "\n",
    "# CYCLE THROUGH EACH RANDOMISATION NUMBER IN THE COMPARISON MAP\n",
    "for subject in comparisonMap:\n",
    "    outputLog[f'{subject}'] = list() # STATUS REPORTING\n",
    "\n",
    "    # FIND THE SUBJECT ID FOR THE RANDOMISATION NUMBER\n",
    "    id = subjectMap.get(subject, None) # medrio subject id\n",
    "    if id is None: # SUBJECT ID NOT DEFINED\n",
    "        outputLog[f'{subject}'].append({\n",
    "            \"status\": \"FAILED\",\n",
    "            \"msg\": \"Medrio subject id could not be identified.\"\n",
    "        })\n",
    "        outputLog['errors'] += 1\n",
    "        continue # GO TO NEXT RANDOMISATION NUMBER\n",
    "    \n",
    "    # COMPARE DATA AND LOG ANY ERRORS\n",
    "    # CYCLE THROUGH EACH PERIOD IN THE STUDY\n",
    "    for period in comparisonMap[subject]:\n",
    "        # CYCLE THROUGH EACH COLLECTION TIMEPOINT\n",
    "        for timepoint in comparisonMap[subject][period]:\n",
    "            \n",
    "            lookuptable = configDict['match'][timepoint] # TIMEPOINT LOOKUP TABLE DEFINED IN THE CONFIG FILE\n",
    "            \n",
    "            errorObject = dict()\n",
    "            \n",
    "            # CYCLE THROUGH THE DATE AND TIME VARIABLES THAT NEED TO BE COMPARED\n",
    "            try:\n",
    "                datecmp = sourceMap[f'{id}'][period][f'{lookuptable[\"date\"]}'].date() == comparisonMap[subject][period][timepoint]['date'].date() # COMPARE DATES\n",
    "                timecmp = sourceMap[f'{id}'][period][f'{lookuptable[\"time\"]}'].time() == comparisonMap[subject][period][timepoint]['time'].time() # COMPARE TIMES\n",
    "            except KeyError as e:\n",
    "                errorObject = {\n",
    "                    \"error\": True,\n",
    "                    'msg': \"Warning: variable most likely not defined for subject in source.\",\n",
    "                }\n",
    "            except:\n",
    "                print('Unknown Error Occured.')\n",
    "                errorObject = {\n",
    "                    \"error\": True,\n",
    "                    'msg': \"Unknown error occured\",\n",
    "                }\n",
    "            \n",
    "            dateError = {'error': False}\n",
    "            timeError = {'error': False}\n",
    "            outputLog['total'] += 1 # increment number of variables assessed\n",
    "            \n",
    "            if not datecmp: # ERROR WITH DATE COMPARISON\n",
    "                dateError = {\n",
    "                        \"variable\": lookuptable['date'],\n",
    "                        \"source\": sourceMap[f'{id}'][period][f'{lookuptable[\"date\"]}'].date().isoformat(),\n",
    "                        \"pk\": comparisonMap[subject][period][timepoint]['date'].date().isoformat(),\n",
    "                        \"error\": True\n",
    "                    }\n",
    "            if not timecmp: # ERROR WITH TIME COMPARISON\n",
    "                timeError = {\n",
    "                        \"variable\": lookuptable['time'],\n",
    "                        \"source\": sourceMap[f'{id}'][period][f'{lookuptable[\"time\"]}'].time().isoformat(),\n",
    "                        \"pk\": comparisonMap[subject][period][timepoint]['time'].time().isoformat(),\n",
    "                        \"error\": True\n",
    "                    }\n",
    "            # APPEND ACCUMULATED ERRORS TO THE ERROR LOG\n",
    "            if not datecmp or not timecmp or errorObject.get('error', False):\n",
    "                outputLog['errors'] += 1\n",
    "                outputLog[f'{subject}'].append({\n",
    "                    **errorObject, \n",
    "                    'period': f'Period {period}',\n",
    "                    'timepoint': timepoint,\n",
    "                    'subjectid': id,\n",
    "                    'date': dateError,\n",
    "                    'time': timeError,\n",
    "                })\n",
    "\n",
    "            \n",
    "writeJSON('output.json', outputLog)\n",
    "writeFile('output.txt', outputLog)\n",
    "writeErrorCSV('output.csv', outputLog)"
   ]
  },
  {
   "cell_type": "markdown",
   "metadata": {},
   "source": [
    "## Plotting Results"
   ]
  },
  {
   "cell_type": "code",
   "execution_count": null,
   "metadata": {},
   "outputs": [],
   "source": [
    "pyplot.pie([outputLog['errors'], outputLog['total']], labels=[outputLog['errors'], outputLog['total']], colors=['#f42613', '#47f747'])"
   ]
  }
 ],
 "metadata": {
  "kernelspec": {
   "display_name": "Python 3",
   "language": "python",
   "name": "python3"
  },
  "language_info": {
   "codemirror_mode": {
    "name": "ipython",
    "version": 3
   },
   "file_extension": ".py",
   "mimetype": "text/x-python",
   "name": "python",
   "nbconvert_exporter": "python",
   "pygments_lexer": "ipython3",
   "version": "3.8.3"
  }
 },
 "nbformat": 4,
 "nbformat_minor": 4
}
