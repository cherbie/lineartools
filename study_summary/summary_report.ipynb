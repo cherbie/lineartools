{
 "cells": [
  {
   "cell_type": "markdown",
   "metadata": {},
   "source": [
    "# Study Summary Report\n",
    "> Author: Clayton Herbst\n",
    "\n",
    "## Business Needs Statement\n",
    "CRO need to be able to review the state of a study on demand, following the progression of study participants over time using key metrics captured within the study.\n",
    "\n",
    "## Task Description\n",
    "Generate a report that reflects the current data within the study, collating all ECG, Vital Signs, PK data on a per tab basis ensuring the links to study participants, forms, visits and timepoints remain. Data must accurately reflect the data stored in the study database."
   ]
  },
  {
   "cell_type": "code",
   "execution_count": null,
   "metadata": {},
   "outputs": [],
   "source": [
    "from openpyxl import Workbook, load_workbook\n",
    "import json\n",
    "import pprint\n",
    "import datetime\n",
    "import os\n",
    "import re\n",
    "from matplotlib import pyplot\n",
    "from src import FileReader, ParseData, FileWriter, ErrorLogger\n",
    "\n",
    "%matplotlib inline"
   ]
  },
  {
   "cell_type": "markdown",
   "metadata": {},
   "source": [
    "## Setup Output Folder"
   ]
  },
  {
   "cell_type": "markdown",
   "metadata": {},
   "source": [
    "Create the __output folder__ in which all output files will be placed."
   ]
  },
  {
   "cell_type": "code",
   "execution_count": null,
   "metadata": {},
   "outputs": [],
   "source": [
    "# Set the output folder location\n",
    "outputfolder = './test/output'"
   ]
  },
  {
   "cell_type": "code",
   "execution_count": null,
   "metadata": {},
   "outputs": [],
   "source": [
    "if not os.path.exists(outputfolder):\n",
    "    os.makedirs(outputfolder, 0o755) # owner execution "
   ]
  },
  {
   "cell_type": "markdown",
   "metadata": {},
   "source": [
    "View contents of folder:"
   ]
  },
  {
   "cell_type": "code",
   "execution_count": null,
   "metadata": {},
   "outputs": [],
   "source": [
    "%ls -l ./test"
   ]
  },
  {
   "cell_type": "markdown",
   "metadata": {},
   "source": [
    "## Define Utility Functions\n",
    "These functions generate the format of the output file. They are supplied with a _dictionary variable_ (`contents`) and then convert this information structure into the output file format (csv -> columns, json -> key-value pairs etc)."
   ]
  },
  {
   "cell_type": "code",
   "execution_count": null,
   "metadata": {},
   "outputs": [],
   "source": [
    "def writeJSON(filename: str, contents: object):\n",
    "    # Create function to allow for file creation in output.\n",
    "    path = os.path.join(outputfolder, filename)\n",
    "    with open(path, 'w') as outputfile:\n",
    "        outputfile.write(json.dumps(contents))\n",
    "    print('JSON file write complete.')"
   ]
  },
  {
   "cell_type": "markdown",
   "metadata": {},
   "source": [
    "## Parse Config File"
   ]
  },
  {
   "cell_type": "markdown",
   "metadata": {},
   "source": [
    "__EDIT HERE:__"
   ]
  },
  {
   "cell_type": "code",
   "execution_count": null,
   "metadata": {},
   "outputs": [],
   "source": [
    "config_file_path = './test/config.json'"
   ]
  },
  {
   "cell_type": "markdown",
   "metadata": {},
   "source": [
    "Parse config file and establish relationships."
   ]
  },
  {
   "cell_type": "code",
   "execution_count": null,
   "metadata": {},
   "outputs": [],
   "source": [
    "config_dict = dict()\n",
    "\n",
    "with open(config_file_path) as jsonfile:\n",
    "    config_dict = json.load(jsonfile)\n",
    "\n",
    "pprint.pp(config_dict)"
   ]
  },
  {
   "cell_type": "markdown",
   "metadata": {},
   "source": [
    "## Process Workbook"
   ]
  },
  {
   "cell_type": "markdown",
   "metadata": {},
   "source": [
    "__EDIT HERE:__ Specify where the input file can be found."
   ]
  },
  {
   "cell_type": "code",
   "execution_count": null,
   "metadata": {},
   "outputs": [],
   "source": [
    "input_file_path = './test/browse_data.xlsx'\n",
    "\n",
    "form_name_column_header = 'Form'"
   ]
  },
  {
   "cell_type": "markdown",
   "metadata": {},
   "source": [
    "Read the xlsx file and create a searchable dictionary variable."
   ]
  },
  {
   "cell_type": "code",
   "execution_count": null,
   "metadata": {},
   "outputs": [],
   "source": [
    "# -- Create File Reader Object --\n",
    "filereader = FileReader(input_file_path)\n",
    "\n",
    "# -- Get File Contents --\n",
    "headers = filereader.getSheetHeaders() # all medrio variables etc\n",
    "ws = filereader.getWorksheet() # worksheet for the file read\n",
    "\n",
    "# -- Get General Headers --\n",
    "general_headers = config_dict.get(\"general_headers\", [])\n",
    "ignore_col_before = len(general_headers) # number of rows to ignore --> i.e row 1 to 5\n",
    "\n",
    "# -- Create File Processing Object --\n",
    "parser = ParseData(headers, config_dict.get('map', None), general_headers=general_headers) # pd = processdata -- allows data to be processed\n",
    "\n",
    "# -- Create Error Logger Object --\n",
    "err_logger = ErrorLogger(outputfolder, headers=general_headers)\n",
    "\n",
    "# -- Parse Contents --\n",
    "row_id = 0 # keep track of number of rows looked at\n",
    "for row in ws.rows:\n",
    "    data = dict()\n",
    "    row_id += 1 # increment the row\n",
    "    \n",
    "    # -- Skip the xlsx headers --\n",
    "    if row_id == 1:\n",
    "        continue\n",
    "    \n",
    "    '''# -- TESTING --\n",
    "    if row_id > 200:\n",
    "        break\n",
    "    '''\n",
    "    \n",
    "    # -- Get the common headers --\n",
    "    general = parser.process_generalised_cells(row)\n",
    "    \n",
    "    # -- Find information about form name --\n",
    "    form_info = parser.generate_form_type(general.get(form_name_column_header, None)) # get the form identifier\n",
    "    \n",
    "    # -- Extract information from form_info --\n",
    "    formtype = form_info[0]\n",
    "    is_triplicate = form_info[1]\n",
    "    form_typemap = form_info[2]\n",
    "    \n",
    "    # -- No formtype defined for form name --\n",
    "    if formtype is None:\n",
    "        error = {\n",
    "            'type': 'WARNING',\n",
    "            'message': f\"Skipped form name: {general.get(form_name_column_header, 'UNKNOWN')}.\",\n",
    "            \"function\": \"Process Workbook\"\n",
    "        }\n",
    "        if err_logger is not None:\n",
    "            err_logger.add({**general, **error})\n",
    "        else:\n",
    "            print(f\"Skipped form name: {general.get(form_name_column_header, 'UNKNOWN')}.\")\n",
    "        continue\n",
    "    \n",
    "    # -- Process based on if the form is a triplicate or not --\n",
    "    if is_triplicate: # is triplicate\n",
    "        data = parser.process_triplicate_loop(row, formtype, ignore_col_before, err_logger=err_logger, start_dict=general)\n",
    "        if data is None:\n",
    "            continue\n",
    "    else: # not triplicate\n",
    "        data = parser.process_loop(row, formtype, ignore_col_before, err_logger=err_logger, start_dict=general)\n",
    "        if data is None:\n",
    "            continue\n",
    "    \n",
    "    # -- ADD TO OVERALL DICTIONARY --\n",
    "    parser.add_row(data, formtype) # use the formtype as the output file tab name\n"
   ]
  },
  {
   "cell_type": "code",
   "execution_count": null,
   "metadata": {},
   "outputs": [],
   "source": [
    "# pprint.pp(parser.get_data())\n",
    "writeJSON('temp_output.json', parser.get_data())"
   ]
  },
  {
   "cell_type": "code",
   "execution_count": null,
   "metadata": {},
   "outputs": [],
   "source": [
    "# -- FORMAT THE DATA --\n",
    "parser.format_data(err_logger=err_logger)"
   ]
  },
  {
   "cell_type": "markdown",
   "metadata": {},
   "source": [
    "## Output Results to XLSX File"
   ]
  },
  {
   "cell_type": "code",
   "execution_count": null,
   "metadata": {},
   "outputs": [],
   "source": [
    "output_filename = 'output'\n",
    "\n",
    "tabs = config_dict.get('tabs', None) # Fetch tabs to be included from config file\n",
    "\n",
    "# Create file writer object\n",
    "writer = FileWriter(outputfolder, output_filename, tabs, general_headers, parser.get_data())\n",
    "\n",
    "for tab in parser.get_data().keys():\n",
    "    writer.write_worksheet(tab)\n",
    "\n",
    "writer.save() # saves the file to disk"
   ]
  },
  {
   "cell_type": "markdown",
   "metadata": {},
   "source": [
    "## Output Error Log"
   ]
  },
  {
   "cell_type": "code",
   "execution_count": null,
   "metadata": {},
   "outputs": [],
   "source": [
    "err_logger.write()\n",
    "err_logger.save()"
   ]
  }
 ],
 "metadata": {
  "kernelspec": {
   "display_name": "Python 3",
   "language": "python",
   "name": "python3"
  },
  "language_info": {
   "codemirror_mode": {
    "name": "ipython",
    "version": 3
   },
   "file_extension": ".py",
   "mimetype": "text/x-python",
   "name": "python",
   "nbconvert_exporter": "python",
   "pygments_lexer": "ipython3",
   "version": "3.8.2"
  }
 },
 "nbformat": 4,
 "nbformat_minor": 4
}
