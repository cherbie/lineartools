{
 "cells": [
  {
   "cell_type": "markdown",
   "metadata": {},
   "source": [
    "# Safety Bloods Date & Time Reconciliation"
   ]
  },
  {
   "cell_type": "code",
   "execution_count": 1,
   "metadata": {},
   "outputs": [],
   "source": [
    "import csv\n",
    "import json\n",
    "import pprint\n",
    "import datetime\n",
    "import os\n",
    "import re\n",
    "from matplotlib import pyplot\n",
    "\n",
    "%matplotlib inline"
   ]
  },
  {
   "cell_type": "markdown",
   "metadata": {},
   "source": [
    "## Setup Output Folder"
   ]
  },
  {
   "cell_type": "markdown",
   "metadata": {},
   "source": [
    "_Global_ scope variables:"
   ]
  },
  {
   "cell_type": "code",
   "execution_count": 2,
   "metadata": {},
   "outputs": [],
   "source": [
    "outputfolder = './test/safety/output/coh2'"
   ]
  },
  {
   "cell_type": "markdown",
   "metadata": {},
   "source": [
    "Create the __output folder__ in which all output files will be placed."
   ]
  },
  {
   "cell_type": "code",
   "execution_count": 3,
   "metadata": {},
   "outputs": [],
   "source": [
    "if not os.path.exists(outputfolder):\n",
    "    os.makedirs(outputfolder, 0o755) # owner execution "
   ]
  },
  {
   "cell_type": "markdown",
   "metadata": {},
   "source": [
    "View contents of folder:"
   ]
  },
  {
   "cell_type": "code",
   "execution_count": 4,
   "metadata": {},
   "outputs": [
    {
     "name": "stdout",
     "output_type": "stream",
     "text": [
      "total 0\n",
      "drwxr-xr-x   9 herbsca  staff  288 17 Apr 11:48 \u001b[34mpk\u001b[m\u001b[m/\n",
      "drwxr-xr-x  10 herbsca  staff  320 20 Apr 12:22 \u001b[34msafety\u001b[m\u001b[m/\n"
     ]
    }
   ],
   "source": [
    "%ls -l ./test"
   ]
  },
  {
   "cell_type": "markdown",
   "metadata": {},
   "source": [
    "Define output file writing functions:"
   ]
  },
  {
   "cell_type": "code",
   "execution_count": 5,
   "metadata": {},
   "outputs": [],
   "source": [
    "def writeFile(filename: str, contents: object):\n",
    "    # Create function to allow for file creation in output.\n",
    "    path = os.path.join(outputfolder, filename)\n",
    "    with open(path, 'w') as outputfile:\n",
    "        outputfile.write(pprint.pformat(contents))\n",
    "    print('Text file write complete.')\n",
    "\n",
    "def writeJSON(filename: str, contents: object):\n",
    "    # Create function to allow for file creation in output.\n",
    "    path = os.path.join(outputfolder, filename)\n",
    "    with open(path, 'w') as outputfile:\n",
    "        outputfile.write(json.dumps(contents))\n",
    "    print('JSON file write complete.')\n",
    "\n",
    "def writeErrorCSV(filename: str, contents: object):\n",
    "    path = os.path.join(outputfolder, filename)\n",
    "    with open(path, 'w') as outputfile:\n",
    "        fieldnames = ['subjectid', 'type', 'visit', 'panel', 'sourceDate', 'sourceTime', 'comparisonDate', 'comparisonTime', 'message']\n",
    "        writer = csv.DictWriter(outputfile, fieldnames=fieldnames)\n",
    "        writer.writeheader() # place headers in csv file.\n",
    "        for key in contents:\n",
    "            if key == 'errors' or  key  == 'total':\n",
    "                    continue\n",
    "            for data in contents[key]:\n",
    "                # cycle through list of errors\n",
    "                sourcedate = '-'\n",
    "                sourcetime = '-'\n",
    "                comparisondate = '-'\n",
    "                comparisontime = '-'\n",
    "                msg =  ''\n",
    "                if 'date' in data and data['date']['error']:\n",
    "                    sourcedate = data['date']['source']\n",
    "                    comparisondate = data['date']['comparison']\n",
    "                if 'time' in data and data['time']['error']:\n",
    "                    sourcetime = data['time']['source']\n",
    "                    comparisontime = data['time']['comparison']\n",
    "                if 'msg' in data:\n",
    "                    msg = data['msg']\n",
    "\n",
    "                row = {\n",
    "                    'subjectid': data['subject'],\n",
    "                    'visit': data['visit'],\n",
    "                    'type': data['type'],\n",
    "                    'panel': data['panel'],\n",
    "                    'sourceDate': sourcedate,\n",
    "                    'sourceTime': sourcetime,\n",
    "                    'comparisonDate': comparisondate,\n",
    "                    'comparisonTime': comparisontime,\n",
    "                    'message': msg\n",
    "                }\n",
    "                writer.writerow(row) # write to file\n",
    "    print('CSV file write complete.')"
   ]
  },
  {
   "cell_type": "markdown",
   "metadata": {},
   "source": [
    "## Read Configuration File"
   ]
  },
  {
   "cell_type": "markdown",
   "metadata": {},
   "source": [
    "Context variables:"
   ]
  },
  {
   "cell_type": "code",
   "execution_count": 6,
   "metadata": {},
   "outputs": [],
   "source": [
    "configfilename = './test/safety/config.json'"
   ]
  },
  {
   "cell_type": "markdown",
   "metadata": {},
   "source": [
    "Parse config file and establish relationships."
   ]
  },
  {
   "cell_type": "code",
   "execution_count": 7,
   "metadata": {},
   "outputs": [
    {
     "name": "stdout",
     "output_type": "stream",
     "text": [
      "{'match': {'visit': {'Screening': 0,\n",
      "                     'Period 1 Day-2': 1,\n",
      "                     'Period 1 Day 2': 2,\n",
      "                     'Period 2 Day 2': 4,\n",
      "                     'Period 2 Day-2': 3,\n",
      "                     'Period 2 Day 7/EOS': 5,\n",
      "                     'Unscheduled': 6,\n",
      "                     'Day -2 [Period 1]': 1,\n",
      "                     'Day 2 [Period 1]': 2,\n",
      "                     'Day -2 [Period 2]': 3,\n",
      "                     'Day 2 [Period 2]': 4,\n",
      "                     'Day 7 [Period 2] EOS': 5,\n",
      "                     '_array': ['Screening',\n",
      "                                'Period 1 Day-2',\n",
      "                                'Period 1 Day 2',\n",
      "                                'Period 2 Day-2',\n",
      "                                'Period 2 Day 2',\n",
      "                                'Period 2 Day 7/EOS',\n",
      "                                'Unscheduled']}}}\n"
     ]
    }
   ],
   "source": [
    "configDict = dict()\n",
    "\n",
    "with open(configfilename) as jsonfile:\n",
    "    configDict = json.load(jsonfile)\n",
    "\n",
    "pprint.pp(configDict)"
   ]
  },
  {
   "cell_type": "markdown",
   "metadata": {},
   "source": [
    "## Read Medrio Source File\n",
    "\n",
    "Create dictionary mapping for each subject to allow for hash map search of data."
   ]
  },
  {
   "cell_type": "markdown",
   "metadata": {},
   "source": [
    "Context variables:"
   ]
  },
  {
   "cell_type": "code",
   "execution_count": 8,
   "metadata": {},
   "outputs": [],
   "source": [
    "sourcefilename = './test/safety/source.csv'\n",
    "\n",
    "sourceMap = dict() # dictionary for subject data\n",
    "\n",
    "subjectidcol = 'Subject ID'\n",
    "visitCol = 'Visit'\n",
    "\n",
    "# Regular expression objects\n",
    "datetimeregex = re.compile(r'dattim', flags=re.I)\n",
    "coagregex = re.compile(r'coag', flags=re.I)\n",
    "chemregex = re.compile(r'chem', flags=re.I)\n",
    "glucregex = re.compile(r'gluc', flags=re.I)\n",
    "serregex = re.compile(r'ser', flags=re.I)\n",
    "haemregex = re.compile(r'haem', flags=re.I)\n",
    "commregex = re.compile(r'comm', flags=re.I)"
   ]
  },
  {
   "cell_type": "markdown",
   "metadata": {},
   "source": [
    "Parse the source file and structure data into the __sourceMap__ dictionary variable."
   ]
  },
  {
   "cell_type": "code",
   "execution_count": 9,
   "metadata": {},
   "outputs": [
    {
     "name": "stdout",
     "output_type": "stream",
     "text": [
      "Text file write complete.\n"
     ]
    }
   ],
   "source": [
    "# Read File\n",
    "with open(sourcefilename) as csvfile:\n",
    "    reader = csv.DictReader(csvfile)\n",
    "    for row in reader:\n",
    "        # Get Period of Row\n",
    "        try:\n",
    "            visitid = configDict['match']['visit'][f'{row[visitCol]}']\n",
    "        except:\n",
    "            print(f'Error: Visit could not be matched from configuration file: {row[visitCol]}')\n",
    "            continue\n",
    "        \n",
    "        if row[subjectidcol] not in sourceMap:\n",
    "            sourceMap[f'{row[subjectidcol]}'] = dict()\n",
    "        if visitid not in sourceMap[f'{row[subjectidcol]}']:\n",
    "            sourceMap[f'{row[subjectidcol]}'][visitid] = dict()\n",
    "        \n",
    "        # Record data values\n",
    "        for key in row:\n",
    "            k = 'comment'\n",
    "            if row[key] == '':\n",
    "                continue # skip empty cell values\n",
    "            value = None\n",
    "            if datetimeregex.search(key) is not None:\n",
    "                # Date\n",
    "                valueError = False\n",
    "                try:\n",
    "                    value = datetime.datetime.strptime(row.get(key).strip(), '%m/%d/%y %H:%M')\n",
    "                except ValueError:\n",
    "                    valueError = True\n",
    "                if valueError:\n",
    "                    value = datetime.datetime.strptime(row.get(key).strip(), '%m/%d/%Y %H:%M')\n",
    "                k = 'datetime'\n",
    "            elif coagregex.search(key) is not None:\n",
    "                k = 'coag'\n",
    "                value = row.get(key, '')\n",
    "            elif chemregex.search(key) is not None:\n",
    "                k = 'chem'\n",
    "                value = row.get(key, '')\n",
    "            elif glucregex.search(key) is not None:\n",
    "                k = 'gluc'\n",
    "                value = row.get(key, '')\n",
    "            elif serregex.search(key) is not None:\n",
    "                k = 'ser'\n",
    "                value = row.get(key, '')\n",
    "            elif haemregex.search(key) is not None:\n",
    "                k = 'haem'\n",
    "                value = row.get(key, '')\n",
    "            elif commregex.search(key) is not None:\n",
    "                k = 'comm'\n",
    "                value = row.get(key, '')\n",
    "            else:\n",
    "                k = key\n",
    "                value = row.get(key, '')\n",
    "            \n",
    "            sourceMap[f'{row[subjectidcol]}'][visitid][f'{k}'] = value\n",
    "\n",
    "writeFile('sourceData.txt', sourceMap)"
   ]
  },
  {
   "cell_type": "markdown",
   "metadata": {},
   "source": [
    "## Read Comparison File"
   ]
  },
  {
   "cell_type": "markdown",
   "metadata": {},
   "source": [
    "Context variables:"
   ]
  },
  {
   "cell_type": "code",
   "execution_count": 10,
   "metadata": {},
   "outputs": [],
   "source": [
    "comparisonMap = dict() # emtpy dictionary\n",
    "\n",
    "comparisonfilename = './test/safety/comparison_coh1&2.csv'\n",
    "\n",
    "#visitRegex = re.compile(r'visit.*([0-9])', flags=re.I)\n",
    "coagregex = re.compile(r'coag', flags=re.I)\n",
    "chemregex = re.compile(r'chem', flags=re.I)\n",
    "glucregex = re.compile(r'gluc', flags=re.I) # compared if 'TestPanel' is blank\n",
    "serregex = re.compile(r'ser', flags=re.I)\n",
    "haemregex = re.compile(r'haem', flags=re.I)\n",
    "commregex = re.compile(r'comm', flags=re.I)\n",
    "\n",
    "# scheduleCol = 'Scheduled time (hrs post dose)'\n",
    "subjectCol1 = 'PatientID1'\n",
    "subjectCol2 = 'PatientID2'\n",
    "dateCol = 'CollDate'\n",
    "timeCol = 'CollTime'\n",
    "visitCol = 'Visit'\n",
    "panelCol = 'TestPanel'\n",
    "nameCol = 'ResultName'"
   ]
  },
  {
   "cell_type": "markdown",
   "metadata": {},
   "source": [
    "Parse comparison file data and structure into the __comparisonMap__ dictionary"
   ]
  },
  {
   "cell_type": "code",
   "execution_count": 11,
   "metadata": {},
   "outputs": [
    {
     "name": "stdout",
     "output_type": "stream",
     "text": [
      "Text file write complete.\n"
     ]
    }
   ],
   "source": [
    "# Read File\n",
    "with open(comparisonfilename) as csvfile:\n",
    "    reader = csv.DictReader(csvfile)\n",
    "    for row in reader:\n",
    "        if row[dateCol] == '':\n",
    "            continue # Skip empty rows\n",
    "        # Interpret Visit\n",
    "        try:\n",
    "            visitid = configDict['match']['visit'][f'{row[visitCol]}']\n",
    "        except:\n",
    "            print(f'Error: Visit could not be matched from configuration file: {row[visitCol]}')\n",
    "            continue\n",
    "        \n",
    "        subject = f'{row[subjectCol1]}' # medrio subject id\n",
    "        if visitid == 6:\n",
    "            continue # skip unscheduled visit\n",
    "        if subject not in comparisonMap:\n",
    "            comparisonMap[subject] = dict()\n",
    "        if visitid not in comparisonMap[subject]:\n",
    "            comparisonMap[subject][visitid] = dict()\n",
    "        \n",
    "        # Fetch infomation\n",
    "        info = dict()\n",
    "        timeval = {\n",
    "            'date': datetime.datetime.strptime(row.get(dateCol).strip(), '%d/%m/%y'),\n",
    "            'time': datetime.datetime.strptime(row.get(timeCol).strip(), '%H:%M:%S')\n",
    "        }\n",
    "        k = None # test name\n",
    "        \n",
    "        if coagregex.search(row[panelCol]) is not None:\n",
    "            k = 'coag'\n",
    "            info['coag'] = {**timeval}\n",
    "        elif chemregex.search(row[panelCol]) is not None:\n",
    "            k = 'chem'\n",
    "            info['chem'] = {**timeval}\n",
    "        elif serregex.search(row[panelCol]) is not None:\n",
    "            k = 'ser'\n",
    "            info['ser'] = {**timeval}\n",
    "        elif haemregex.search(row[panelCol]) is not None:\n",
    "            k = 'haem'\n",
    "            info['haem'] = {**timeval}\n",
    "        elif row[panelCol] == '':\n",
    "            if glucregex.search(row[nameCol]) is not None:\n",
    "                k = 'gluc'\n",
    "                info['gluc'] = {**timeval}\n",
    "            else:\n",
    "                continue # not interested\n",
    "        else:\n",
    "            continue # not interested\n",
    "        \n",
    "        # Append new information if verified to be identical\n",
    "        if k not in comparisonMap[subject][visitid]:\n",
    "            # print(comparisonMap[f'{row[subjectCol]}'][visitid])\n",
    "            comparisonMap[subject][visitid].update({**info}) # remember values\n",
    "        elif comparisonMap[subject][visitid][k]['date'] != info[k]['date']:\n",
    "            # the date in script does not match previously recorded dates\n",
    "            error = {\n",
    "                'subject': subject,\n",
    "                'visit': row[visitCol],\n",
    "                **info\n",
    "            }\n",
    "            pprint.pp(error)\n",
    "            pprint.pp(comparisonMap[subject][visitid])\n",
    "            raise Exception(\"ERROR: date for data point is not consistent within file!\")\n",
    "        elif comparisonMap[subject][visitid][k]['time'] != info[k]['time']:\n",
    "            # the date in script does not match previously recorded dates\n",
    "            error = {\n",
    "                'subject': subject,\n",
    "                'visit': row[visitCol],\n",
    "                **info\n",
    "            }\n",
    "            pprint.pp(error)\n",
    "            pprint.pp(comparisonMap[subject][visitid])\n",
    "            raise Exception(\"ERROR: time for data point is not consistent within file!\")\n",
    "        else:\n",
    "            # append information\n",
    "            comparisonMap[subject][visitid].update(info)\n",
    "            #pprint.pp(comparisonMap[f'{row[subjectCol]}'][visitid])\n",
    "            \n",
    "\n",
    "writeFile('comparisonData.txt', comparisonMap)"
   ]
  },
  {
   "cell_type": "markdown",
   "metadata": {},
   "source": [
    "## Parse Data & Assess Equality"
   ]
  },
  {
   "cell_type": "markdown",
   "metadata": {},
   "source": [
    "Context variables:"
   ]
  },
  {
   "cell_type": "markdown",
   "metadata": {},
   "source": [
    "Compare matching data points and flag inequalities:"
   ]
  },
  {
   "cell_type": "code",
   "execution_count": 12,
   "metadata": {},
   "outputs": [
    {
     "name": "stdout",
     "output_type": "stream",
     "text": [
      "S006-([0-9]){5} not in source.\n",
      "S011-([0-9]){5} not in source.\n",
      "S003-([0-9]){5} not in source.\n",
      "S004-([0-9]){5} not in source.\n",
      "S005-([0-9]){5} not in source.\n",
      "S023-([0-9]){5} not in source.\n",
      "S018-([0-9]){5} not in source.\n",
      "S002-([0-9]){5} not in source.\n",
      "S022-([0-9]){5} not in source.\n",
      "S017-([0-9]){5} not in source.\n",
      "S026-([0-9]){5} not in source.\n",
      "S028-([0-9]){5} not in source.\n",
      "S031-([0-9]){5} not in source.\n",
      "S078-([0-9]){5} not in source.\n",
      "S068-([0-9]){5} not in source.\n",
      "S076-([0-9]){5} not in source.\n",
      "S029-([0-9]){5} not in source.\n",
      "S057-([0-9]){5} not in source.\n",
      "S050-([0-9]){5} not in source.\n",
      "S067-([0-9]){5} not in source.\n",
      "S065-([0-9]){5} not in source.\n",
      "S062-([0-9]){5} not in source.\n",
      "S032-([0-9]){5} not in source.\n",
      "S056-([0-9]){5} not in source.\n",
      "S061-([0-9]){5} not in source.\n",
      "S071-([0-9]){5} not in source.\n",
      "S045-([0-9]){5} not in source.\n",
      "S034-([0-9]){5} not in source.\n",
      "S049-([0-9]){5} not in source.\n",
      "S052-([0-9]){5} not in source.\n",
      "S037-([0-9]){5} not in source.\n",
      "S047-([0-9]){5} not in source.\n",
      "S075-([0-9]){5} not in source.\n",
      "JSON file write complete.\n",
      "Text file write complete.\n",
      "CSV file write complete.\n"
     ]
    }
   ],
   "source": [
    "outputLog = {\"errors\": 0, \"total\": 0}\n",
    "\n",
    "subjectKeys = sourceMap.keys().__str__() # allows for extraction of medrio subject id's\n",
    "\n",
    "for s in comparisonMap:\n",
    "    pattern = f'{s}-([0-9]){{5}}'\n",
    "    match = re.search(pattern, subjectKeys)\n",
    "    if match is None:\n",
    "        print(f'{pattern} not in source.')\n",
    "        continue # not in source\n",
    "    \n",
    "    subject = match.group(0)\n",
    "    outputLog[f'{subject}'] = list() # status reporting\n",
    "\n",
    "    # Compare data & log any errors\n",
    "    for visitid in comparisonMap[s]:\n",
    "        for panel in comparisonMap[s][visitid]:\n",
    "            visitName = configDict['match']['visit']['_array'][visitid]\n",
    "            errorObject = dict()\n",
    "            datecmp = False\n",
    "            timecmp = False\n",
    "            \n",
    "            # Cycle through date and time variables to be compared\n",
    "            try:\n",
    "                if visitid not in sourceMap[subject]:\n",
    "                    raise Exception(f'Visit not defined for the subject in source: {visitName}')\n",
    "                if sourceMap[subject][visitid].get(panel, None) is not None and sourceMap[subject][visitid].get(panel, '') == 'Yes':\n",
    "                    datecmp = sourceMap[subject][visitid]['datetime'].date() == comparisonMap[s][visitid][panel]['date'].date()\n",
    "                    timecmp = sourceMap[subject][visitid]['datetime'].time() == comparisonMap[s][visitid][panel]['time'].time()\n",
    "                else:\n",
    "                    raise Exception('Test panel is not registed in the source data')\n",
    "\n",
    "                if not datecmp:\n",
    "                    # if date's are not equivalent\n",
    "                    dateError = {\n",
    "                            \"source\": sourceMap[subject][visitid]['datetime'].date().isoformat(),\n",
    "                            \"comparison\": comparisonMap[s][visitid][panel]['date'].date().isoformat(),\n",
    "                            \"error\": True\n",
    "                        }\n",
    "                    errorObject = {\n",
    "                        \"error\": True,\n",
    "                        \"type\": \"ERROR\",\n",
    "                        \"date\": dateError\n",
    "                    }\n",
    "\n",
    "                if not timecmp:\n",
    "                    # if time's are not equivalent\n",
    "                    timeError = {\n",
    "                            \"source\": sourceMap[subject][visitid]['datetime'].time().isoformat(),\n",
    "                            \"comparison\": comparisonMap[s][visitid][panel]['time'].time().isoformat(),\n",
    "                            \"error\": True\n",
    "                        }\n",
    "                    errorObject = {\n",
    "                        \"error\": True,\n",
    "                        \"type\": \"ERROR\",\n",
    "                        \"time\": timeError\n",
    "                    }\n",
    "                if 'comm' in sourceMap[subject][visitid]:\n",
    "                    # Comments where recorded hence just flag them for checking.\n",
    "                    errorObject = {\n",
    "                        \"error\": True,\n",
    "                        \"type\": \"WARNING\",\n",
    "                        \"msg\": sourceMap[subject][visitid]['comm'],\n",
    "                        \"date\": {\n",
    "                            \"source\": sourceMap[subject][visitid]['datetime'].date().isoformat(),\n",
    "                            \"comparison\": comparisonMap[s][visitid][panel]['date'].date().isoformat(),\n",
    "                            \"error\": True\n",
    "                        },\n",
    "                        \"time\": {\n",
    "                            \"source\": sourceMap[subject][visitid]['datetime'].time().isoformat(),\n",
    "                            \"comparison\": comparisonMap[s][visitid][panel]['time'].time().isoformat(),\n",
    "                            \"error\": True\n",
    "                        }\n",
    "                    }\n",
    "            \n",
    "            except KeyError as e:\n",
    "                print(e)\n",
    "                errorObject = {\n",
    "                    \"type\": \"WARNING\",\n",
    "                    \"error\": True,\n",
    "                    'msg': \"Warning: variable most likely not defined for subject in source.\"\n",
    "                }\n",
    "            except Exception as e:\n",
    "                errorObject = {\n",
    "                        \"error\": True,\n",
    "                        \"type\": \"WARNING\",\n",
    "                        \"msg\": f'{e}',\n",
    "                        \"panel\": panel,\n",
    "                        \"visit\": visitName,\n",
    "                    }\n",
    "            except:\n",
    "                print('Unknown Error Occured.')\n",
    "                errorObject = {\n",
    "                    \"error\": True,\n",
    "                    \"type\": \"ERROR\",\n",
    "                    'msg': \"Unknown error occured\",\n",
    "                }\n",
    "            finally:\n",
    "                if errorObject.get('error', False):\n",
    "                    outputLog['errors'] += 1\n",
    "                    outputLog[f'{subject}'].append({\n",
    "                        **errorObject,\n",
    "                        'visit': visitName,\n",
    "                        'panel': panel,\n",
    "                        'subject': subject\n",
    "                    })\n",
    "                outputLog['total'] += 1 # increment number of variables assessed\n",
    "\n",
    "            \n",
    "writeJSON('output.json', outputLog)\n",
    "writeFile('output.txt', outputLog)\n",
    "writeErrorCSV('output.csv', outputLog)"
   ]
  },
  {
   "cell_type": "markdown",
   "metadata": {},
   "source": [
    "## Plotting Results"
   ]
  },
  {
   "cell_type": "code",
   "execution_count": 13,
   "metadata": {},
   "outputs": [
    {
     "data": {
      "text/plain": [
       "([<matplotlib.patches.Wedge at 0x10b4a0ca0>,\n",
       "  <matplotlib.patches.Wedge at 0x10b4b3190>],\n",
       " [Text(1.0872824211669276, 0.16678410182443615, '25'),\n",
       "  Text(-1.087282432878516, -0.16678402547539006, '491')])"
      ]
     },
     "execution_count": 13,
     "metadata": {},
     "output_type": "execute_result"
    },
    {
     "data": {
      "image/png": "[encoded data removed]",
      "text/plain": [
       "<Figure size 432x288 with 1 Axes>"
      ]
     },
     "metadata": {},
     "output_type": "display_data"
    }
   ],
   "source": [
    "pyplot.pie([outputLog['errors'], outputLog['total']], labels=[outputLog['errors'], outputLog['total']], colors=['#f42613', '#47f747'])"
   ]
  },
  {
   "cell_type": "code",
   "execution_count": null,
   "metadata": {},
   "outputs": [],
   "source": []
  }
 ],
 "metadata": {
  "kernelspec": {
   "display_name": "Python 3",
   "language": "python",
   "name": "python3"
  },
  "language_info": {
   "codemirror_mode": {
    "name": "ipython",
    "version": 3
   },
   "file_extension": ".py",
   "mimetype": "text/x-python",
   "name": "python",
   "nbconvert_exporter": "python",
   "pygments_lexer": "ipython3",
   "version": "3.8.2"
  }
 },
 "nbformat": 4,
 "nbformat_minor": 4
}
